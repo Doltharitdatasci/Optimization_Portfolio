{
 "cells": [
  {
   "cell_type": "code",
   "execution_count": 151,
   "metadata": {},
   "outputs": [],
   "source": [
    "import pandas as pd\n",
    "import yfinance as yf\n",
    "import numpy as np\n",
    "import matplotlib.pyplot as plt\n",
    "from matplotlib.pyplot import figure\n",
    "from datapackage import Package\n",
    "import seaborn as sns\n",
    "from numpy.linalg import inv"
   ]
  },
  {
   "cell_type": "markdown",
   "metadata": {},
   "source": [
    "# data description"
   ]
  },
  {
   "cell_type": "code",
   "execution_count": 54,
   "metadata": {},
   "outputs": [],
   "source": [
    "def adj_price(stocks, start_date, end_date):\n",
    "    data = yf.download(stocks, start=start_date, end=end_date , interval=\"1d\")\n",
    "    return data[\"Adj Close\"]"
   ]
  },
  {
   "cell_type": "code",
   "execution_count": 55,
   "metadata": {},
   "outputs": [
    {
     "name": "stdout",
     "output_type": "stream",
     "text": [
      "[*********************100%***********************]  1 of 1 completed\n"
     ]
    },
    {
     "data": {
      "image/png": "[encoded data removed]",
      "text/plain": [
       "<Figure size 432x288 with 1 Axes>"
      ]
     },
     "metadata": {
      "needs_background": "light"
     },
     "output_type": "display_data"
    }
   ],
   "source": [
    "sp500 = adj_price(\"^GSPC\", \"2016-01-01\", \"2020-12-31\")\n",
    "returns_sp500 = sp500.pct_change()\n",
    "returns_sp500.hist()\n",
    "plt.show()"
   ]
  },
  {
   "cell_type": "code",
   "execution_count": 56,
   "metadata": {},
   "outputs": [
    {
     "name": "stdout",
     "output_type": "stream",
     "text": [
      "mean :  0.05525992407554855\n",
      "Std. dev  :  1.2118512892096482\n",
      "skew :  -0.7268721187857626\n",
      "kurt :  20.494881880997198\n"
     ]
    }
   ],
   "source": [
    "# Print the mean\n",
    "print(\"mean : \", returns_sp500.mean()*100)\n",
    "\n",
    "# Print the standard deviation\n",
    "print(\"Std. dev  : \", returns_sp500.std()*100)\n",
    "\n",
    "# Print the skewness\n",
    "print(\"skew : \", returns_sp500.skew())\n",
    "\n",
    "# Print the kurtosis\n",
    "print(\"kurt : \", returns_sp500.kurtosis())"
   ]
  },
  {
   "cell_type": "code",
   "execution_count": 57,
   "metadata": {},
   "outputs": [],
   "source": [
    "sector = pd.read_csv(\"constituents_csv.csv\")\n",
    "sector.value_counts('Sector')\n",
    "sp500_list = sector.Symbol.tolist()"
   ]
  },
  {
   "cell_type": "code",
   "execution_count": 65,
   "metadata": {},
   "outputs": [],
   "source": [
    "# historical price 5 year\n",
    "# price_5_year = adj_price(sp500_list, \"2016-01-01\", \"2020-12-31\")\n",
    "# price_5_year.to_csv(\"final_hist_stock_price.csv\")\n",
    "price_5_year = pd.read_csv(\"final_hist_stock_price.csv\", parse_dates=['Date'], index_col='Date')"
   ]
  },
  {
   "cell_type": "markdown",
   "metadata": {},
   "source": [
    "## Clean Data"
   ]
  },
  {
   "cell_type": "code",
   "execution_count": 68,
   "metadata": {},
   "outputs": [
    {
     "data": {
      "text/html": [
       "<div>\n",
       "<style scoped>\n",
       "    .dataframe tbody tr th:only-of-type {\n",
       "        vertical-align: middle;\n",
       "    }\n",
       "\n",
       "    .dataframe tbody tr th {\n",
       "        vertical-align: top;\n",
       "    }\n",
       "\n",
       "    .dataframe thead th {\n",
       "        text-align: right;\n",
       "    }\n",
       "</style>\n",
       "<table border=\"1\" class=\"dataframe\">\n",
       "  <thead>\n",
       "    <tr style=\"text-align: right;\">\n",
       "      <th></th>\n",
       "      <th>A</th>\n",
       "      <th>AAL</th>\n",
       "      <th>AAP</th>\n",
       "      <th>AAPL</th>\n",
       "      <th>ABBV</th>\n",
       "      <th>ABC</th>\n",
       "      <th>ABMD</th>\n",
       "      <th>ABT</th>\n",
       "      <th>ACN</th>\n",
       "      <th>ADBE</th>\n",
       "      <th>...</th>\n",
       "      <th>XEL</th>\n",
       "      <th>XLNX</th>\n",
       "      <th>XOM</th>\n",
       "      <th>XRAY</th>\n",
       "      <th>XYL</th>\n",
       "      <th>YUM</th>\n",
       "      <th>ZBH</th>\n",
       "      <th>ZBRA</th>\n",
       "      <th>ZION</th>\n",
       "      <th>ZTS</th>\n",
       "    </tr>\n",
       "    <tr>\n",
       "      <th>Date</th>\n",
       "      <th></th>\n",
       "      <th></th>\n",
       "      <th></th>\n",
       "      <th></th>\n",
       "      <th></th>\n",
       "      <th></th>\n",
       "      <th></th>\n",
       "      <th></th>\n",
       "      <th></th>\n",
       "      <th></th>\n",
       "      <th></th>\n",
       "      <th></th>\n",
       "      <th></th>\n",
       "      <th></th>\n",
       "      <th></th>\n",
       "      <th></th>\n",
       "      <th></th>\n",
       "      <th></th>\n",
       "      <th></th>\n",
       "      <th></th>\n",
       "      <th></th>\n",
       "    </tr>\n",
       "  </thead>\n",
       "  <tbody>\n",
       "    <tr>\n",
       "      <th>2015-12-31</th>\n",
       "      <td>39.780807</td>\n",
       "      <td>40.471588</td>\n",
       "      <td>146.405624</td>\n",
       "      <td>24.302439</td>\n",
       "      <td>44.666813</td>\n",
       "      <td>93.505241</td>\n",
       "      <td>90.279999</td>\n",
       "      <td>40.095913</td>\n",
       "      <td>94.687836</td>\n",
       "      <td>93.940002</td>\n",
       "      <td>...</td>\n",
       "      <td>30.270300</td>\n",
       "      <td>42.542244</td>\n",
       "      <td>57.979973</td>\n",
       "      <td>58.437458</td>\n",
       "      <td>33.971024</td>\n",
       "      <td>47.227505</td>\n",
       "      <td>98.078400</td>\n",
       "      <td>69.650002</td>\n",
       "      <td>24.287739</td>\n",
       "      <td>46.085125</td>\n",
       "    </tr>\n",
       "    <tr>\n",
       "      <th>2016-01-04</th>\n",
       "      <td>38.715160</td>\n",
       "      <td>39.095455</td>\n",
       "      <td>148.088425</td>\n",
       "      <td>24.323219</td>\n",
       "      <td>43.437801</td>\n",
       "      <td>91.846306</td>\n",
       "      <td>85.239998</td>\n",
       "      <td>38.328159</td>\n",
       "      <td>92.268524</td>\n",
       "      <td>91.970001</td>\n",
       "      <td>...</td>\n",
       "      <td>30.093283</td>\n",
       "      <td>41.482536</td>\n",
       "      <td>57.615501</td>\n",
       "      <td>56.526360</td>\n",
       "      <td>33.580135</td>\n",
       "      <td>46.684441</td>\n",
       "      <td>97.332710</td>\n",
       "      <td>66.489998</td>\n",
       "      <td>23.762840</td>\n",
       "      <td>45.460018</td>\n",
       "    </tr>\n",
       "    <tr>\n",
       "      <th>2016-01-05</th>\n",
       "      <td>38.581959</td>\n",
       "      <td>38.722763</td>\n",
       "      <td>147.076797</td>\n",
       "      <td>23.713696</td>\n",
       "      <td>43.256844</td>\n",
       "      <td>93.189674</td>\n",
       "      <td>85.000000</td>\n",
       "      <td>38.319229</td>\n",
       "      <td>92.748764</td>\n",
       "      <td>92.339996</td>\n",
       "      <td>...</td>\n",
       "      <td>30.396746</td>\n",
       "      <td>42.098427</td>\n",
       "      <td>58.106426</td>\n",
       "      <td>57.678776</td>\n",
       "      <td>33.570824</td>\n",
       "      <td>46.568069</td>\n",
       "      <td>99.359451</td>\n",
       "      <td>64.820000</td>\n",
       "      <td>23.504839</td>\n",
       "      <td>46.171684</td>\n",
       "    </tr>\n",
       "    <tr>\n",
       "      <th>2016-01-06</th>\n",
       "      <td>38.753227</td>\n",
       "      <td>39.401257</td>\n",
       "      <td>143.185867</td>\n",
       "      <td>23.249626</td>\n",
       "      <td>43.264378</td>\n",
       "      <td>91.765144</td>\n",
       "      <td>85.300003</td>\n",
       "      <td>37.997822</td>\n",
       "      <td>92.567558</td>\n",
       "      <td>91.019997</td>\n",
       "      <td>...</td>\n",
       "      <td>30.717062</td>\n",
       "      <td>41.328568</td>\n",
       "      <td>57.622952</td>\n",
       "      <td>56.843266</td>\n",
       "      <td>33.151997</td>\n",
       "      <td>46.238346</td>\n",
       "      <td>99.789696</td>\n",
       "      <td>62.230000</td>\n",
       "      <td>22.819798</td>\n",
       "      <td>46.181301</td>\n",
       "    </tr>\n",
       "    <tr>\n",
       "      <th>2016-01-07</th>\n",
       "      <td>37.107189</td>\n",
       "      <td>38.655853</td>\n",
       "      <td>144.771408</td>\n",
       "      <td>22.268383</td>\n",
       "      <td>43.136200</td>\n",
       "      <td>88.834923</td>\n",
       "      <td>81.919998</td>\n",
       "      <td>37.087158</td>\n",
       "      <td>89.849243</td>\n",
       "      <td>89.110001</td>\n",
       "      <td>...</td>\n",
       "      <td>30.835085</td>\n",
       "      <td>39.698246</td>\n",
       "      <td>56.700623</td>\n",
       "      <td>56.343884</td>\n",
       "      <td>32.295742</td>\n",
       "      <td>44.660866</td>\n",
       "      <td>97.495224</td>\n",
       "      <td>59.410000</td>\n",
       "      <td>22.134762</td>\n",
       "      <td>44.777203</td>\n",
       "    </tr>\n",
       "  </tbody>\n",
       "</table>\n",
       "<p>5 rows × 505 columns</p>\n",
       "</div>"
      ],
      "text/plain": [
       "                    A        AAL         AAP       AAPL       ABBV        ABC  \\\n",
       "Date                                                                            \n",
       "2015-12-31  39.780807  40.471588  146.405624  24.302439  44.666813  93.505241   \n",
       "2016-01-04  38.715160  39.095455  148.088425  24.323219  43.437801  91.846306   \n",
       "2016-01-05  38.581959  38.722763  147.076797  23.713696  43.256844  93.189674   \n",
       "2016-01-06  38.753227  39.401257  143.185867  23.249626  43.264378  91.765144   \n",
       "2016-01-07  37.107189  38.655853  144.771408  22.268383  43.136200  88.834923   \n",
       "\n",
       "                 ABMD        ABT        ACN       ADBE  ...        XEL  \\\n",
       "Date                                                    ...              \n",
       "2015-12-31  90.279999  40.095913  94.687836  93.940002  ...  30.270300   \n",
       "2016-01-04  85.239998  38.328159  92.268524  91.970001  ...  30.093283   \n",
       "2016-01-05  85.000000  38.319229  92.748764  92.339996  ...  30.396746   \n",
       "2016-01-06  85.300003  37.997822  92.567558  91.019997  ...  30.717062   \n",
       "2016-01-07  81.919998  37.087158  89.849243  89.110001  ...  30.835085   \n",
       "\n",
       "                 XLNX        XOM       XRAY        XYL        YUM        ZBH  \\\n",
       "Date                                                                           \n",
       "2015-12-31  42.542244  57.979973  58.437458  33.971024  47.227505  98.078400   \n",
       "2016-01-04  41.482536  57.615501  56.526360  33.580135  46.684441  97.332710   \n",
       "2016-01-05  42.098427  58.106426  57.678776  33.570824  46.568069  99.359451   \n",
       "2016-01-06  41.328568  57.622952  56.843266  33.151997  46.238346  99.789696   \n",
       "2016-01-07  39.698246  56.700623  56.343884  32.295742  44.660866  97.495224   \n",
       "\n",
       "                 ZBRA       ZION        ZTS  \n",
       "Date                                         \n",
       "2015-12-31  69.650002  24.287739  46.085125  \n",
       "2016-01-04  66.489998  23.762840  45.460018  \n",
       "2016-01-05  64.820000  23.504839  46.171684  \n",
       "2016-01-06  62.230000  22.819798  46.181301  \n",
       "2016-01-07  59.410000  22.134762  44.777203  \n",
       "\n",
       "[5 rows x 505 columns]"
      ]
     },
     "execution_count": 68,
     "metadata": {},
     "output_type": "execute_result"
    }
   ],
   "source": [
    "price_5_year.head()"
   ]
  },
  {
   "cell_type": "code",
   "execution_count": 67,
   "metadata": {},
   "outputs": [
    {
     "data": {
      "text/plain": [
       "A           3\n",
       "NWL         3\n",
       "NVR         3\n",
       "NVDA        3\n",
       "NUE         3\n",
       "         ... \n",
       "CARR     1063\n",
       "OTIS     1063\n",
       "BF.B     1262\n",
       "OGN      1262\n",
       "BRK.B    1262\n",
       "Length: 505, dtype: int64"
      ]
     },
     "execution_count": 67,
     "metadata": {},
     "output_type": "execute_result"
    }
   ],
   "source": [
    "price_5_year.isnull().sum(axis=0).sort_values()"
   ]
  },
  {
   "cell_type": "code",
   "execution_count": 69,
   "metadata": {},
   "outputs": [
    {
     "data": {
      "text/html": [
       "<div>\n",
       "<style scoped>\n",
       "    .dataframe tbody tr th:only-of-type {\n",
       "        vertical-align: middle;\n",
       "    }\n",
       "\n",
       "    .dataframe tbody tr th {\n",
       "        vertical-align: top;\n",
       "    }\n",
       "\n",
       "    .dataframe thead th {\n",
       "        text-align: right;\n",
       "    }\n",
       "</style>\n",
       "<table border=\"1\" class=\"dataframe\">\n",
       "  <thead>\n",
       "    <tr style=\"text-align: right;\">\n",
       "      <th></th>\n",
       "      <th>g</th>\n",
       "    </tr>\n",
       "  </thead>\n",
       "  <tbody>\n",
       "    <tr>\n",
       "      <th>BF.B</th>\n",
       "      <td>1262</td>\n",
       "    </tr>\n",
       "    <tr>\n",
       "      <th>BRK.B</th>\n",
       "      <td>1262</td>\n",
       "    </tr>\n",
       "    <tr>\n",
       "      <th>CARR</th>\n",
       "      <td>1063</td>\n",
       "    </tr>\n",
       "    <tr>\n",
       "      <th>CDAY</th>\n",
       "      <td>586</td>\n",
       "    </tr>\n",
       "    <tr>\n",
       "      <th>CTVA</th>\n",
       "      <td>857</td>\n",
       "    </tr>\n",
       "    <tr>\n",
       "      <th>DOW</th>\n",
       "      <td>811</td>\n",
       "    </tr>\n",
       "    <tr>\n",
       "      <th>FOX</th>\n",
       "      <td>806</td>\n",
       "    </tr>\n",
       "    <tr>\n",
       "      <th>FOXA</th>\n",
       "      <td>805</td>\n",
       "    </tr>\n",
       "    <tr>\n",
       "      <th>FTV</th>\n",
       "      <td>130</td>\n",
       "    </tr>\n",
       "    <tr>\n",
       "      <th>HWM</th>\n",
       "      <td>214</td>\n",
       "    </tr>\n",
       "    <tr>\n",
       "      <th>IR</th>\n",
       "      <td>346</td>\n",
       "    </tr>\n",
       "    <tr>\n",
       "      <th>LW</th>\n",
       "      <td>221</td>\n",
       "    </tr>\n",
       "    <tr>\n",
       "      <th>MRNA</th>\n",
       "      <td>742</td>\n",
       "    </tr>\n",
       "    <tr>\n",
       "      <th>OGN</th>\n",
       "      <td>1262</td>\n",
       "    </tr>\n",
       "    <tr>\n",
       "      <th>OTIS</th>\n",
       "      <td>1063</td>\n",
       "    </tr>\n",
       "    <tr>\n",
       "      <th>UA</th>\n",
       "      <td>59</td>\n",
       "    </tr>\n",
       "  </tbody>\n",
       "</table>\n",
       "</div>"
      ],
      "text/plain": [
       "          g\n",
       "BF.B   1262\n",
       "BRK.B  1262\n",
       "CARR   1063\n",
       "CDAY    586\n",
       "CTVA    857\n",
       "DOW     811\n",
       "FOX     806\n",
       "FOXA    805\n",
       "FTV     130\n",
       "HWM     214\n",
       "IR      346\n",
       "LW      221\n",
       "MRNA    742\n",
       "OGN    1262\n",
       "OTIS   1063\n",
       "UA       59"
      ]
     },
     "execution_count": 69,
     "metadata": {},
     "output_type": "execute_result"
    }
   ],
   "source": [
    "df[df.g>3]"
   ]
  },
  {
   "cell_type": "code",
   "execution_count": 70,
   "metadata": {},
   "outputs": [
    {
     "data": {
      "text/html": [
       "<div>\n",
       "<style scoped>\n",
       "    .dataframe tbody tr th:only-of-type {\n",
       "        vertical-align: middle;\n",
       "    }\n",
       "\n",
       "    .dataframe tbody tr th {\n",
       "        vertical-align: top;\n",
       "    }\n",
       "\n",
       "    .dataframe thead th {\n",
       "        text-align: right;\n",
       "    }\n",
       "</style>\n",
       "<table border=\"1\" class=\"dataframe\">\n",
       "  <thead>\n",
       "    <tr style=\"text-align: right;\">\n",
       "      <th></th>\n",
       "      <th>Name</th>\n",
       "      <th>Sector</th>\n",
       "    </tr>\n",
       "    <tr>\n",
       "      <th>Symbol</th>\n",
       "      <th></th>\n",
       "      <th></th>\n",
       "    </tr>\n",
       "  </thead>\n",
       "  <tbody>\n",
       "    <tr>\n",
       "      <th>BF.B</th>\n",
       "      <td>Brown–Forman</td>\n",
       "      <td>Consumer Staples</td>\n",
       "    </tr>\n",
       "    <tr>\n",
       "      <th>BRK.B</th>\n",
       "      <td>Berkshire Hathaway</td>\n",
       "      <td>Financials</td>\n",
       "    </tr>\n",
       "    <tr>\n",
       "      <th>CARR</th>\n",
       "      <td>Carrier Global</td>\n",
       "      <td>Industrials</td>\n",
       "    </tr>\n",
       "    <tr>\n",
       "      <th>CDAY</th>\n",
       "      <td>Ceridian</td>\n",
       "      <td>Information Technology</td>\n",
       "    </tr>\n",
       "    <tr>\n",
       "      <th>CTVA</th>\n",
       "      <td>Corteva</td>\n",
       "      <td>Materials</td>\n",
       "    </tr>\n",
       "    <tr>\n",
       "      <th>DOW</th>\n",
       "      <td>Dow</td>\n",
       "      <td>Materials</td>\n",
       "    </tr>\n",
       "    <tr>\n",
       "      <th>FOX</th>\n",
       "      <td>Fox Corporation (Class B)</td>\n",
       "      <td>Communication Services</td>\n",
       "    </tr>\n",
       "    <tr>\n",
       "      <th>FOXA</th>\n",
       "      <td>Fox Corporation (Class A)</td>\n",
       "      <td>Communication Services</td>\n",
       "    </tr>\n",
       "    <tr>\n",
       "      <th>FTV</th>\n",
       "      <td>Fortive</td>\n",
       "      <td>Industrials</td>\n",
       "    </tr>\n",
       "    <tr>\n",
       "      <th>HWM</th>\n",
       "      <td>Howmet Aerospace</td>\n",
       "      <td>Industrials</td>\n",
       "    </tr>\n",
       "    <tr>\n",
       "      <th>IR</th>\n",
       "      <td>Ingersoll Rand</td>\n",
       "      <td>Industrials</td>\n",
       "    </tr>\n",
       "    <tr>\n",
       "      <th>LW</th>\n",
       "      <td>Lamb Weston</td>\n",
       "      <td>Consumer Staples</td>\n",
       "    </tr>\n",
       "    <tr>\n",
       "      <th>MRNA</th>\n",
       "      <td>Moderna</td>\n",
       "      <td>Health Care</td>\n",
       "    </tr>\n",
       "    <tr>\n",
       "      <th>OGN</th>\n",
       "      <td>Organon &amp; Co.</td>\n",
       "      <td>Health Care</td>\n",
       "    </tr>\n",
       "    <tr>\n",
       "      <th>OTIS</th>\n",
       "      <td>Otis Worldwide</td>\n",
       "      <td>Industrials</td>\n",
       "    </tr>\n",
       "    <tr>\n",
       "      <th>UA</th>\n",
       "      <td>Under Armour (Class C)</td>\n",
       "      <td>Consumer Discretionary</td>\n",
       "    </tr>\n",
       "  </tbody>\n",
       "</table>\n",
       "</div>"
      ],
      "text/plain": [
       "                             Name                  Sector\n",
       "Symbol                                                   \n",
       "BF.B                 Brown–Forman        Consumer Staples\n",
       "BRK.B          Berkshire Hathaway              Financials\n",
       "CARR               Carrier Global             Industrials\n",
       "CDAY                     Ceridian  Information Technology\n",
       "CTVA                      Corteva               Materials\n",
       "DOW                           Dow               Materials\n",
       "FOX     Fox Corporation (Class B)  Communication Services\n",
       "FOXA    Fox Corporation (Class A)  Communication Services\n",
       "FTV                       Fortive             Industrials\n",
       "HWM              Howmet Aerospace             Industrials\n",
       "IR                 Ingersoll Rand             Industrials\n",
       "LW                    Lamb Weston        Consumer Staples\n",
       "MRNA                      Moderna             Health Care\n",
       "OGN                 Organon & Co.             Health Care\n",
       "OTIS               Otis Worldwide             Industrials\n",
       "UA         Under Armour (Class C)  Consumer Discretionary"
      ]
     },
     "execution_count": 70,
     "metadata": {},
     "output_type": "execute_result"
    }
   ],
   "source": [
    "ba = pd.Series(price_5_year.isnull().sum(axis=0), name=\"g\")\n",
    "df = ba.to_frame()\n",
    "df = df[df.g>3]\n",
    "cut_stock = df.index.to_list()\n",
    "sector_index = sector.set_index('Symbol')\n",
    "sector_index.loc[cut_stock, :]"
   ]
  },
  {
   "cell_type": "code",
   "execution_count": 71,
   "metadata": {},
   "outputs": [],
   "source": [
    "sp500_list \n",
    "cut_stock \n",
    "for stock in list(sp500_list):  # iterating on a copy since removing will mess things up\n",
    "    if stock in cut_stock:\n",
    "        sp500_list.remove(stock)"
   ]
  },
  {
   "cell_type": "code",
   "execution_count": 72,
   "metadata": {},
   "outputs": [
    {
     "data": {
      "text/html": [
       "<div>\n",
       "<style scoped>\n",
       "    .dataframe tbody tr th:only-of-type {\n",
       "        vertical-align: middle;\n",
       "    }\n",
       "\n",
       "    .dataframe tbody tr th {\n",
       "        vertical-align: top;\n",
       "    }\n",
       "\n",
       "    .dataframe thead th {\n",
       "        text-align: right;\n",
       "    }\n",
       "</style>\n",
       "<table border=\"1\" class=\"dataframe\">\n",
       "  <thead>\n",
       "    <tr style=\"text-align: right;\">\n",
       "      <th></th>\n",
       "      <th>MMM</th>\n",
       "      <th>AOS</th>\n",
       "      <th>ABT</th>\n",
       "      <th>ABBV</th>\n",
       "      <th>ABMD</th>\n",
       "      <th>ACN</th>\n",
       "      <th>ATVI</th>\n",
       "      <th>ADM</th>\n",
       "      <th>ADBE</th>\n",
       "      <th>AAP</th>\n",
       "      <th>...</th>\n",
       "      <th>WLTW</th>\n",
       "      <th>WYNN</th>\n",
       "      <th>XEL</th>\n",
       "      <th>XLNX</th>\n",
       "      <th>XYL</th>\n",
       "      <th>YUM</th>\n",
       "      <th>ZBRA</th>\n",
       "      <th>ZBH</th>\n",
       "      <th>ZION</th>\n",
       "      <th>ZTS</th>\n",
       "    </tr>\n",
       "    <tr>\n",
       "      <th>Date</th>\n",
       "      <th></th>\n",
       "      <th></th>\n",
       "      <th></th>\n",
       "      <th></th>\n",
       "      <th></th>\n",
       "      <th></th>\n",
       "      <th></th>\n",
       "      <th></th>\n",
       "      <th></th>\n",
       "      <th></th>\n",
       "      <th></th>\n",
       "      <th></th>\n",
       "      <th></th>\n",
       "      <th></th>\n",
       "      <th></th>\n",
       "      <th></th>\n",
       "      <th></th>\n",
       "      <th></th>\n",
       "      <th></th>\n",
       "      <th></th>\n",
       "      <th></th>\n",
       "    </tr>\n",
       "  </thead>\n",
       "  <tbody>\n",
       "    <tr>\n",
       "      <th>2015-12-31</th>\n",
       "      <td>126.231018</td>\n",
       "      <td>34.937634</td>\n",
       "      <td>40.095913</td>\n",
       "      <td>44.666813</td>\n",
       "      <td>90.279999</td>\n",
       "      <td>94.687836</td>\n",
       "      <td>37.239159</td>\n",
       "      <td>30.550133</td>\n",
       "      <td>93.940002</td>\n",
       "      <td>146.405624</td>\n",
       "      <td>...</td>\n",
       "      <td>118.716492</td>\n",
       "      <td>62.666252</td>\n",
       "      <td>30.270300</td>\n",
       "      <td>42.542244</td>\n",
       "      <td>33.971024</td>\n",
       "      <td>47.227505</td>\n",
       "      <td>69.650002</td>\n",
       "      <td>98.078400</td>\n",
       "      <td>24.287739</td>\n",
       "      <td>46.085125</td>\n",
       "    </tr>\n",
       "    <tr>\n",
       "      <th>2016-01-04</th>\n",
       "      <td>123.029976</td>\n",
       "      <td>34.285492</td>\n",
       "      <td>38.328159</td>\n",
       "      <td>43.437801</td>\n",
       "      <td>85.239998</td>\n",
       "      <td>92.268524</td>\n",
       "      <td>36.190575</td>\n",
       "      <td>29.850519</td>\n",
       "      <td>91.970001</td>\n",
       "      <td>148.088425</td>\n",
       "      <td>...</td>\n",
       "      <td>115.319016</td>\n",
       "      <td>62.285862</td>\n",
       "      <td>30.093283</td>\n",
       "      <td>41.482536</td>\n",
       "      <td>33.580135</td>\n",
       "      <td>46.684441</td>\n",
       "      <td>66.489998</td>\n",
       "      <td>97.332710</td>\n",
       "      <td>23.762840</td>\n",
       "      <td>45.460018</td>\n",
       "    </tr>\n",
       "    <tr>\n",
       "      <th>2016-01-05</th>\n",
       "      <td>123.566261</td>\n",
       "      <td>34.093952</td>\n",
       "      <td>38.319229</td>\n",
       "      <td>43.256844</td>\n",
       "      <td>85.000000</td>\n",
       "      <td>92.748764</td>\n",
       "      <td>35.728813</td>\n",
       "      <td>30.183672</td>\n",
       "      <td>92.339996</td>\n",
       "      <td>147.076797</td>\n",
       "      <td>...</td>\n",
       "      <td>116.112427</td>\n",
       "      <td>63.463280</td>\n",
       "      <td>30.396746</td>\n",
       "      <td>42.098427</td>\n",
       "      <td>33.570824</td>\n",
       "      <td>46.568069</td>\n",
       "      <td>64.820000</td>\n",
       "      <td>99.359451</td>\n",
       "      <td>23.504839</td>\n",
       "      <td>46.171684</td>\n",
       "    </tr>\n",
       "    <tr>\n",
       "      <th>2016-01-06</th>\n",
       "      <td>121.077507</td>\n",
       "      <td>33.419006</td>\n",
       "      <td>37.997822</td>\n",
       "      <td>43.264378</td>\n",
       "      <td>85.300003</td>\n",
       "      <td>92.567558</td>\n",
       "      <td>35.392117</td>\n",
       "      <td>29.450735</td>\n",
       "      <td>91.019997</td>\n",
       "      <td>143.185867</td>\n",
       "      <td>...</td>\n",
       "      <td>116.112427</td>\n",
       "      <td>60.175541</td>\n",
       "      <td>30.717062</td>\n",
       "      <td>41.328568</td>\n",
       "      <td>33.151997</td>\n",
       "      <td>46.238346</td>\n",
       "      <td>62.230000</td>\n",
       "      <td>99.789696</td>\n",
       "      <td>22.819798</td>\n",
       "      <td>46.181301</td>\n",
       "    </tr>\n",
       "    <tr>\n",
       "      <th>2016-01-07</th>\n",
       "      <td>118.127876</td>\n",
       "      <td>31.786354</td>\n",
       "      <td>37.087158</td>\n",
       "      <td>43.136200</td>\n",
       "      <td>81.919998</td>\n",
       "      <td>89.849243</td>\n",
       "      <td>34.891869</td>\n",
       "      <td>28.751110</td>\n",
       "      <td>89.110001</td>\n",
       "      <td>144.771408</td>\n",
       "      <td>...</td>\n",
       "      <td>106.064232</td>\n",
       "      <td>54.514839</td>\n",
       "      <td>30.835085</td>\n",
       "      <td>39.698246</td>\n",
       "      <td>32.295742</td>\n",
       "      <td>44.660866</td>\n",
       "      <td>59.410000</td>\n",
       "      <td>97.495224</td>\n",
       "      <td>22.134762</td>\n",
       "      <td>44.777203</td>\n",
       "    </tr>\n",
       "  </tbody>\n",
       "</table>\n",
       "<p>5 rows × 489 columns</p>\n",
       "</div>"
      ],
      "text/plain": [
       "                   MMM        AOS        ABT       ABBV       ABMD        ACN  \\\n",
       "Date                                                                            \n",
       "2015-12-31  126.231018  34.937634  40.095913  44.666813  90.279999  94.687836   \n",
       "2016-01-04  123.029976  34.285492  38.328159  43.437801  85.239998  92.268524   \n",
       "2016-01-05  123.566261  34.093952  38.319229  43.256844  85.000000  92.748764   \n",
       "2016-01-06  121.077507  33.419006  37.997822  43.264378  85.300003  92.567558   \n",
       "2016-01-07  118.127876  31.786354  37.087158  43.136200  81.919998  89.849243   \n",
       "\n",
       "                 ATVI        ADM       ADBE         AAP  ...        WLTW  \\\n",
       "Date                                                     ...               \n",
       "2015-12-31  37.239159  30.550133  93.940002  146.405624  ...  118.716492   \n",
       "2016-01-04  36.190575  29.850519  91.970001  148.088425  ...  115.319016   \n",
       "2016-01-05  35.728813  30.183672  92.339996  147.076797  ...  116.112427   \n",
       "2016-01-06  35.392117  29.450735  91.019997  143.185867  ...  116.112427   \n",
       "2016-01-07  34.891869  28.751110  89.110001  144.771408  ...  106.064232   \n",
       "\n",
       "                 WYNN        XEL       XLNX        XYL        YUM       ZBRA  \\\n",
       "Date                                                                           \n",
       "2015-12-31  62.666252  30.270300  42.542244  33.971024  47.227505  69.650002   \n",
       "2016-01-04  62.285862  30.093283  41.482536  33.580135  46.684441  66.489998   \n",
       "2016-01-05  63.463280  30.396746  42.098427  33.570824  46.568069  64.820000   \n",
       "2016-01-06  60.175541  30.717062  41.328568  33.151997  46.238346  62.230000   \n",
       "2016-01-07  54.514839  30.835085  39.698246  32.295742  44.660866  59.410000   \n",
       "\n",
       "                  ZBH       ZION        ZTS  \n",
       "Date                                         \n",
       "2015-12-31  98.078400  24.287739  46.085125  \n",
       "2016-01-04  97.332710  23.762840  45.460018  \n",
       "2016-01-05  99.359451  23.504839  46.171684  \n",
       "2016-01-06  99.789696  22.819798  46.181301  \n",
       "2016-01-07  97.495224  22.134762  44.777203  \n",
       "\n",
       "[5 rows x 489 columns]"
      ]
     },
     "execution_count": 72,
     "metadata": {},
     "output_type": "execute_result"
    }
   ],
   "source": [
    "df_full = price_5_year[sp500_list]\n",
    "df_full.head(5)"
   ]
  },
  {
   "cell_type": "code",
   "execution_count": 76,
   "metadata": {},
   "outputs": [
    {
     "data": {
      "text/plain": [
       "Information Technology    73\n",
       "Industrials               69\n",
       "Financials                64\n",
       "Health Care               62\n",
       "Consumer Discretionary    62\n",
       "Consumer Staples          30\n",
       "Real Estate               29\n",
       "Utilities                 28\n",
       "Materials                 26\n",
       "Communication Services    25\n",
       "Energy                    21\n",
       "Name: Sector, dtype: int64"
      ]
     },
     "execution_count": 76,
     "metadata": {},
     "output_type": "execute_result"
    }
   ],
   "source": [
    "sector = sector.set_index('Symbol')\n",
    "sector = sector_index.loc[sp500_list , :]\n",
    "sector = sector.reset_index()\n",
    "sector.Sector.value_counts()"
   ]
  },
  {
   "cell_type": "code",
   "execution_count": 78,
   "metadata": {},
   "outputs": [
    {
     "name": "stdout",
     "output_type": "stream",
     "text": [
      "{'Industrials': ['MMM', 'AOS', 'ALK', 'ALLE', 'AAL', 'AME', 'BA', 'CHRW', 'CAT', 'CTAS', 'CPRT', 'CSX', 'CMI', 'DE', 'DAL', 'DOV', 'ETN', 'EMR', 'EFX', 'EXPD', 'FAST', 'FDX', 'FBHS', 'GNRC', 'GD', 'GE', 'HON', 'HII', 'IEX', 'INFO', 'ITW', 'JBHT', 'J', 'JCI', 'KSU', 'LHX', 'LDOS', 'LMT', 'MAS', 'NLSN', 'NSC', 'NOC', 'ODFL', 'PCAR', 'PH', 'PNR', 'PWR', 'RTX', 'RSG', 'RHI', 'ROK', 'ROL', 'ROP', 'SNA', 'LUV', 'SWK', 'TDY', 'TXT', 'TT', 'TDG', 'UNP', 'UAL', 'UPS', 'URI', 'VRSK', 'GWW', 'WAB', 'WM', 'XYL'], 'Health Care': ['ABT', 'ABBV', 'ABMD', 'A', 'ALGN', 'ABC', 'AMGN', 'ANTM', 'BAX', 'BDX', 'BIO', 'TECH', 'BIIB', 'BSX', 'BMY', 'CAH', 'CTLT', 'CNC', 'CERN', 'CRL', 'CI', 'CVS', 'DHR', 'DVA', 'XRAY', 'DXCM', 'EW', 'LLY', 'GILD', 'HCA', 'HSIC', 'HOLX', 'HUM', 'IDXX', 'ILMN', 'INCY', 'ISRG', 'IQV', 'JNJ', 'LH', 'MCK', 'MDT', 'MRK', 'MTD', 'PKI', 'PFE', 'DGX', 'REGN', 'RMD', 'STE', 'SYK', 'TFX', 'COO', 'TMO', 'UNH', 'UHS', 'VRTX', 'VTRS', 'WAT', 'WST', 'ZBH', 'ZTS'], 'Information Technology': ['ACN', 'ADBE', 'AMD', 'AKAM', 'APH', 'ADI', 'ANSS', 'AAPL', 'AMAT', 'ANET', 'ADSK', 'ADP', 'AVGO', 'BR', 'CDNS', 'CDW', 'CSCO', 'CTXS', 'CTSH', 'GLW', 'DXC', 'ENPH', 'FFIV', 'FIS', 'FISV', 'FLT', 'FTNT', 'IT', 'GPN', 'HPE', 'HPQ', 'IBM', 'INTC', 'INTU', 'IPGP', 'JKHY', 'JNPR', 'KEYS', 'KLAC', 'LRCX', 'MA', 'MCHP', 'MU', 'MSFT', 'MPWR', 'MSI', 'NTAP', 'NLOK', 'NVDA', 'NXPI', 'ORCL', 'PAYX', 'PAYC', 'PYPL', 'PTC', 'QRVO', 'QCOM', 'CRM', 'STX', 'NOW', 'SWKS', 'SNPS', 'TEL', 'TER', 'TXN', 'TRMB', 'TYL', 'VRSN', 'V', 'WDC', 'WU', 'XLNX', 'ZBRA'], 'Communication Services': ['ATVI', 'GOOGL', 'GOOG', 'T', 'CHTR', 'CMCSA', 'DISCA', 'DISCK', 'DISH', 'EA', 'FB', 'IPG', 'LYV', 'LUMN', 'MTCH', 'NFLX', 'NWSA', 'NWS', 'OMC', 'TMUS', 'TTWO', 'DIS', 'TWTR', 'VZ', 'VIAC'], 'Consumer Staples': ['ADM', 'MO', 'CPB', 'CHD', 'CLX', 'KO', 'CL', 'CAG', 'STZ', 'COST', 'EL', 'GIS', 'HRL', 'SJM', 'K', 'KMB', 'KHC', 'KR', 'MKC', 'TAP', 'MDLZ', 'MNST', 'PEP', 'PM', 'PG', 'SYY', 'HSY', 'TSN', 'WBA', 'WMT'], 'Consumer Discretionary': ['AAP', 'AMZN', 'APTV', 'AZO', 'BBWI', 'BBY', 'BKNG', 'BWA', 'CZR', 'KMX', 'CCL', 'CMG', 'DHI', 'DRI', 'DG', 'DLTR', 'DPZ', 'EBAY', 'ETSY', 'EXPE', 'F', 'GPS', 'GRMN', 'GM', 'GPC', 'HBI', 'HAS', 'HLT', 'HD', 'LVS', 'LEG', 'LEN', 'LKQ', 'LOW', 'MAR', 'MCD', 'MGM', 'MHK', 'NWL', 'NKE', 'NCLH', 'NVR', 'ORLY', 'PENN', 'POOL', 'PHM', 'PVH', 'RL', 'ROST', 'RCL', 'SBUX', 'TPR', 'TGT', 'TSLA', 'TJX', 'TSCO', 'ULTA', 'UAA', 'VFC', 'WHR', 'WYNN', 'YUM'], 'Utilities': ['AES', 'LNT', 'AEE', 'AEP', 'AWK', 'ATO', 'CNP', 'CMS', 'ED', 'D', 'DTE', 'DUK', 'EIX', 'ETR', 'EVRG', 'ES', 'EXC', 'FE', 'NEE', 'NI', 'NRG', 'PNW', 'PPL', 'PEG', 'SRE', 'SO', 'WEC', 'XEL'], 'Financials': ['AFL', 'ALL', 'AXP', 'AIG', 'AMP', 'AON', 'AJG', 'AIZ', 'BAC', 'BLK', 'BK', 'BRO', 'COF', 'CBOE', 'SCHW', 'CB', 'CINF', 'C', 'CFG', 'CME', 'CMA', 'DFS', 'RE', 'FITB', 'FRC', 'BEN', 'GL', 'GS', 'HBAN', 'ICE', 'IVZ', 'JPM', 'KEY', 'LNC', 'L', 'MTB', 'MKTX', 'MMC', 'MET', 'MCO', 'MS', 'MSCI', 'NDAQ', 'NTRS', 'PBCT', 'PNC', 'PFG', 'PGR', 'PRU', 'RJF', 'RF', 'SPGI', 'STT', 'SIVB', 'SYF', 'TROW', 'HIG', 'TRV', 'TFC', 'USB', 'WRB', 'WFC', 'WLTW', 'ZION'], 'Materials': ['APD', 'ALB', 'AMCR', 'AVY', 'BLL', 'CE', 'CF', 'DD', 'EMN', 'ECL', 'FMC', 'FCX', 'IFF', 'IP', 'LIN', 'LYB', 'MLM', 'NEM', 'NUE', 'PKG', 'PPG', 'SEE', 'SHW', 'MOS', 'VMC', 'WRK'], 'Real Estate': ['ARE', 'AMT', 'AVB', 'BXP', 'CBRE', 'CCI', 'DLR', 'DRE', 'EQIX', 'EQR', 'ESS', 'EXR', 'FRT', 'PEAK', 'HST', 'IRM', 'KIM', 'MAA', 'PLD', 'PSA', 'O', 'REG', 'SBAC', 'SPG', 'UDR', 'VTR', 'VNO', 'WELL', 'WY'], 'Energy': ['APA', 'BKR', 'CVX', 'COP', 'CTRA', 'DVN', 'FANG', 'EOG', 'XOM', 'HAL', 'HES', 'KMI', 'MRO', 'MPC', 'OXY', 'OKE', 'PSX', 'PXD', 'SLB', 'VLO', 'WMB']}\n"
     ]
    }
   ],
   "source": [
    "dict_sector = {}\n",
    "for i in sector.Sector.unique().tolist():\n",
    "    list = sector[sector['Sector']== i ].Symbol.tolist()\n",
    "    each_sector_dict = {i : list}\n",
    "    dict_sector.update(each_sector_dict)\n",
    "print(dict_sector)"
   ]
  },
  {
   "cell_type": "code",
   "execution_count": 80,
   "metadata": {},
   "outputs": [
    {
     "data": {
      "text/plain": [
       "['Industrials',\n",
       " 'Health Care',\n",
       " 'Information Technology',\n",
       " 'Communication Services',\n",
       " 'Consumer Staples',\n",
       " 'Consumer Discretionary',\n",
       " 'Utilities',\n",
       " 'Financials',\n",
       " 'Materials',\n",
       " 'Real Estate',\n",
       " 'Energy']"
      ]
     },
     "execution_count": 80,
     "metadata": {},
     "output_type": "execute_result"
    }
   ],
   "source": [
    "type_sector_list = sector.Sector.unique().tolist()\n",
    "type_sector_list"
   ]
  },
  {
   "cell_type": "code",
   "execution_count": 81,
   "metadata": {},
   "outputs": [
    {
     "data": {
      "text/plain": [
       "MMM     103281819648\n",
       "AOS      13124498432\n",
       "ABT     224289898496\n",
       "ABBV    205498368000\n",
       "ABMD     15468694528\n",
       "            ...     \n",
       "YUM      37216165888\n",
       "ZBRA     31891214336\n",
       "ZBH      26871244800\n",
       "ZION     10847895552\n",
       "ZTS     107078950912\n",
       "Name: marketCap, Length: 489, dtype: int64"
      ]
     },
     "execution_count": 81,
     "metadata": {},
     "output_type": "execute_result"
    }
   ],
   "source": [
    "from pandas_datareader import data\n",
    "# sp500_list\n",
    "# data.get_quote_yahoo(sp500_list)['marketCap']\n",
    "# market_cap = data.get_quote_yahoo(sp500_list)['marketCap']\n",
    "# market_cap.to_csv(\"final_market_cap.csv\")\n"
   ]
  },
  {
   "cell_type": "code",
   "execution_count": 123,
   "metadata": {},
   "outputs": [],
   "source": [
    "market_cap = pd.read_csv(\"final_market_cap.csv\", index_col=0)"
   ]
  },
  {
   "cell_type": "code",
   "execution_count": 125,
   "metadata": {},
   "outputs": [],
   "source": [
    "data = pd.DataFrame()\n",
    "for i in type_sector_list:\n",
    "    return_energy = df_full[dict_sector[i]].pct_change()\n",
    "    return_energy = return_energy[1:]\n",
    "    weight_list = market_cap['marketCap'][sector[sector['Sector']== i ].Symbol.tolist()]/ market_cap['marketCap'][sector[sector['Sector']== i ].Symbol.tolist()].sum()\n",
    "    weight_array = np.array(weight_list)\n",
    "    data[i] = return_energy.dot(weight_array)"
   ]
  },
  {
   "cell_type": "code",
   "execution_count": 127,
   "metadata": {},
   "outputs": [
    {
     "data": {
      "text/html": [
       "<div>\n",
       "<style scoped>\n",
       "    .dataframe tbody tr th:only-of-type {\n",
       "        vertical-align: middle;\n",
       "    }\n",
       "\n",
       "    .dataframe tbody tr th {\n",
       "        vertical-align: top;\n",
       "    }\n",
       "\n",
       "    .dataframe thead th {\n",
       "        text-align: right;\n",
       "    }\n",
       "</style>\n",
       "<table border=\"1\" class=\"dataframe\">\n",
       "  <thead>\n",
       "    <tr style=\"text-align: right;\">\n",
       "      <th></th>\n",
       "      <th>Industrials</th>\n",
       "      <th>Health Care</th>\n",
       "      <th>Information Technology</th>\n",
       "      <th>Communication Services</th>\n",
       "      <th>Consumer Staples</th>\n",
       "      <th>Consumer Discretionary</th>\n",
       "      <th>Utilities</th>\n",
       "      <th>Financials</th>\n",
       "      <th>Materials</th>\n",
       "      <th>Real Estate</th>\n",
       "      <th>Energy</th>\n",
       "    </tr>\n",
       "    <tr>\n",
       "      <th>Date</th>\n",
       "      <th></th>\n",
       "      <th></th>\n",
       "      <th></th>\n",
       "      <th></th>\n",
       "      <th></th>\n",
       "      <th></th>\n",
       "      <th></th>\n",
       "      <th></th>\n",
       "      <th></th>\n",
       "      <th></th>\n",
       "      <th></th>\n",
       "    </tr>\n",
       "  </thead>\n",
       "  <tbody>\n",
       "    <tr>\n",
       "      <th>2016-01-04</th>\n",
       "      <td>-0.012585</td>\n",
       "      <td>-0.019881</td>\n",
       "      <td>-0.013278</td>\n",
       "      <td>-0.021780</td>\n",
       "      <td>-0.010981</td>\n",
       "      <td>-0.037776</td>\n",
       "      <td>-0.002381</td>\n",
       "      <td>-0.023390</td>\n",
       "      <td>-0.011172</td>\n",
       "      <td>-0.010309</td>\n",
       "      <td>-0.003591</td>\n",
       "    </tr>\n",
       "    <tr>\n",
       "      <th>2016-01-05</th>\n",
       "      <td>0.000393</td>\n",
       "      <td>0.004879</td>\n",
       "      <td>-0.006036</td>\n",
       "      <td>0.000794</td>\n",
       "      <td>0.008558</td>\n",
       "      <td>-0.000238</td>\n",
       "      <td>0.008208</td>\n",
       "      <td>0.000367</td>\n",
       "      <td>-0.000174</td>\n",
       "      <td>0.018684</td>\n",
       "      <td>0.006347</td>\n",
       "    </tr>\n",
       "    <tr>\n",
       "      <th>2016-01-06</th>\n",
       "      <td>-0.016176</td>\n",
       "      <td>-0.007542</td>\n",
       "      <td>-0.019039</td>\n",
       "      <td>0.002575</td>\n",
       "      <td>-0.003820</td>\n",
       "      <td>-0.012250</td>\n",
       "      <td>-0.002152</td>\n",
       "      <td>-0.018365</td>\n",
       "      <td>-0.025901</td>\n",
       "      <td>-0.004701</td>\n",
       "      <td>-0.039345</td>\n",
       "    </tr>\n",
       "    <tr>\n",
       "      <th>2016-01-07</th>\n",
       "      <td>-0.028866</td>\n",
       "      <td>-0.020785</td>\n",
       "      <td>-0.033618</td>\n",
       "      <td>-0.024614</td>\n",
       "      <td>-0.009411</td>\n",
       "      <td>-0.027242</td>\n",
       "      <td>-0.006503</td>\n",
       "      <td>-0.031702</td>\n",
       "      <td>-0.028528</td>\n",
       "      <td>-0.021234</td>\n",
       "      <td>-0.026684</td>\n",
       "    </tr>\n",
       "    <tr>\n",
       "      <th>2016-01-08</th>\n",
       "      <td>-0.011108</td>\n",
       "      <td>-0.011896</td>\n",
       "      <td>-0.006763</td>\n",
       "      <td>-0.011521</td>\n",
       "      <td>-0.010065</td>\n",
       "      <td>-0.012367</td>\n",
       "      <td>0.000880</td>\n",
       "      <td>-0.016966</td>\n",
       "      <td>-0.010848</td>\n",
       "      <td>-0.009387</td>\n",
       "      <td>-0.011862</td>\n",
       "    </tr>\n",
       "  </tbody>\n",
       "</table>\n",
       "</div>"
      ],
      "text/plain": [
       "            Industrials  Health Care  Information Technology  \\\n",
       "Date                                                           \n",
       "2016-01-04    -0.012585    -0.019881               -0.013278   \n",
       "2016-01-05     0.000393     0.004879               -0.006036   \n",
       "2016-01-06    -0.016176    -0.007542               -0.019039   \n",
       "2016-01-07    -0.028866    -0.020785               -0.033618   \n",
       "2016-01-08    -0.011108    -0.011896               -0.006763   \n",
       "\n",
       "            Communication Services  Consumer Staples  Consumer Discretionary  \\\n",
       "Date                                                                           \n",
       "2016-01-04               -0.021780         -0.010981               -0.037776   \n",
       "2016-01-05                0.000794          0.008558               -0.000238   \n",
       "2016-01-06                0.002575         -0.003820               -0.012250   \n",
       "2016-01-07               -0.024614         -0.009411               -0.027242   \n",
       "2016-01-08               -0.011521         -0.010065               -0.012367   \n",
       "\n",
       "            Utilities  Financials  Materials  Real Estate    Energy  \n",
       "Date                                                                 \n",
       "2016-01-04  -0.002381   -0.023390  -0.011172    -0.010309 -0.003591  \n",
       "2016-01-05   0.008208    0.000367  -0.000174     0.018684  0.006347  \n",
       "2016-01-06  -0.002152   -0.018365  -0.025901    -0.004701 -0.039345  \n",
       "2016-01-07  -0.006503   -0.031702  -0.028528    -0.021234 -0.026684  \n",
       "2016-01-08   0.000880   -0.016966  -0.010848    -0.009387 -0.011862  "
      ]
     },
     "execution_count": 127,
     "metadata": {},
     "output_type": "execute_result"
    }
   ],
   "source": [
    "data.head()"
   ]
  },
  {
   "cell_type": "code",
   "execution_count": 131,
   "metadata": {},
   "outputs": [
    {
     "data": {
      "image/png": "[encoded data removed]",
      "text/plain": [
       "<Figure size 864x936 with 4 Axes>"
      ]
     },
     "metadata": {
      "needs_background": "light"
     },
     "output_type": "display_data"
    }
   ],
   "source": [
    "g = sns.clustermap(data.corr(), method='ward', center = 0.0, cmap=\"RdYlGn\",\n",
    "                   dendrogram_ratio=(.2, .2),\n",
    "                   linewidths=.75, figsize=(12, 13),\n",
    "                   annot = True)"
   ]
  },
  {
   "cell_type": "code",
   "execution_count": 136,
   "metadata": {},
   "outputs": [
    {
     "data": {
      "text/html": [
       "<div>\n",
       "<style scoped>\n",
       "    .dataframe tbody tr th:only-of-type {\n",
       "        vertical-align: middle;\n",
       "    }\n",
       "\n",
       "    .dataframe tbody tr th {\n",
       "        vertical-align: top;\n",
       "    }\n",
       "\n",
       "    .dataframe thead th {\n",
       "        text-align: right;\n",
       "    }\n",
       "</style>\n",
       "<table border=\"1\" class=\"dataframe\">\n",
       "  <thead>\n",
       "    <tr style=\"text-align: right;\">\n",
       "      <th></th>\n",
       "      <th>Industrials</th>\n",
       "      <th>Health Care</th>\n",
       "      <th>Information Technology</th>\n",
       "      <th>Communication Services</th>\n",
       "      <th>Consumer Staples</th>\n",
       "      <th>Consumer Discretionary</th>\n",
       "      <th>Utilities</th>\n",
       "      <th>Financials</th>\n",
       "      <th>Materials</th>\n",
       "      <th>Real Estate</th>\n",
       "      <th>Energy</th>\n",
       "    </tr>\n",
       "  </thead>\n",
       "  <tbody>\n",
       "    <tr>\n",
       "      <th>Industrials</th>\n",
       "      <td>1.000000</td>\n",
       "      <td>0.737253</td>\n",
       "      <td>0.724342</td>\n",
       "      <td>0.638057</td>\n",
       "      <td>0.658492</td>\n",
       "      <td>0.675090</td>\n",
       "      <td>0.554631</td>\n",
       "      <td>0.869537</td>\n",
       "      <td>0.871162</td>\n",
       "      <td>0.699333</td>\n",
       "      <td>0.767072</td>\n",
       "    </tr>\n",
       "    <tr>\n",
       "      <th>Health Care</th>\n",
       "      <td>0.737253</td>\n",
       "      <td>1.000000</td>\n",
       "      <td>0.802485</td>\n",
       "      <td>0.722231</td>\n",
       "      <td>0.734903</td>\n",
       "      <td>0.686181</td>\n",
       "      <td>0.599030</td>\n",
       "      <td>0.726961</td>\n",
       "      <td>0.753370</td>\n",
       "      <td>0.682751</td>\n",
       "      <td>0.583366</td>\n",
       "    </tr>\n",
       "    <tr>\n",
       "      <th>Information Technology</th>\n",
       "      <td>0.724342</td>\n",
       "      <td>0.802485</td>\n",
       "      <td>1.000000</td>\n",
       "      <td>0.855627</td>\n",
       "      <td>0.685432</td>\n",
       "      <td>0.829389</td>\n",
       "      <td>0.498285</td>\n",
       "      <td>0.713929</td>\n",
       "      <td>0.748902</td>\n",
       "      <td>0.637247</td>\n",
       "      <td>0.577931</td>\n",
       "    </tr>\n",
       "    <tr>\n",
       "      <th>Communication Services</th>\n",
       "      <td>0.638057</td>\n",
       "      <td>0.722231</td>\n",
       "      <td>0.855627</td>\n",
       "      <td>1.000000</td>\n",
       "      <td>0.612509</td>\n",
       "      <td>0.777723</td>\n",
       "      <td>0.431115</td>\n",
       "      <td>0.632738</td>\n",
       "      <td>0.650588</td>\n",
       "      <td>0.561161</td>\n",
       "      <td>0.528299</td>\n",
       "    </tr>\n",
       "    <tr>\n",
       "      <th>Consumer Staples</th>\n",
       "      <td>0.658492</td>\n",
       "      <td>0.734903</td>\n",
       "      <td>0.685432</td>\n",
       "      <td>0.612509</td>\n",
       "      <td>1.000000</td>\n",
       "      <td>0.594174</td>\n",
       "      <td>0.745564</td>\n",
       "      <td>0.633236</td>\n",
       "      <td>0.678632</td>\n",
       "      <td>0.731320</td>\n",
       "      <td>0.496202</td>\n",
       "    </tr>\n",
       "    <tr>\n",
       "      <th>Consumer Discretionary</th>\n",
       "      <td>0.675090</td>\n",
       "      <td>0.686181</td>\n",
       "      <td>0.829389</td>\n",
       "      <td>0.777723</td>\n",
       "      <td>0.594174</td>\n",
       "      <td>1.000000</td>\n",
       "      <td>0.418429</td>\n",
       "      <td>0.651454</td>\n",
       "      <td>0.690899</td>\n",
       "      <td>0.594689</td>\n",
       "      <td>0.561368</td>\n",
       "    </tr>\n",
       "    <tr>\n",
       "      <th>Utilities</th>\n",
       "      <td>0.554631</td>\n",
       "      <td>0.599030</td>\n",
       "      <td>0.498285</td>\n",
       "      <td>0.431115</td>\n",
       "      <td>0.745564</td>\n",
       "      <td>0.418429</td>\n",
       "      <td>1.000000</td>\n",
       "      <td>0.514567</td>\n",
       "      <td>0.570629</td>\n",
       "      <td>0.788895</td>\n",
       "      <td>0.432517</td>\n",
       "    </tr>\n",
       "    <tr>\n",
       "      <th>Financials</th>\n",
       "      <td>0.869537</td>\n",
       "      <td>0.726961</td>\n",
       "      <td>0.713929</td>\n",
       "      <td>0.632738</td>\n",
       "      <td>0.633236</td>\n",
       "      <td>0.651454</td>\n",
       "      <td>0.514567</td>\n",
       "      <td>1.000000</td>\n",
       "      <td>0.836677</td>\n",
       "      <td>0.681074</td>\n",
       "      <td>0.765390</td>\n",
       "    </tr>\n",
       "    <tr>\n",
       "      <th>Materials</th>\n",
       "      <td>0.871162</td>\n",
       "      <td>0.753370</td>\n",
       "      <td>0.748902</td>\n",
       "      <td>0.650588</td>\n",
       "      <td>0.678632</td>\n",
       "      <td>0.690899</td>\n",
       "      <td>0.570629</td>\n",
       "      <td>0.836677</td>\n",
       "      <td>1.000000</td>\n",
       "      <td>0.702394</td>\n",
       "      <td>0.751721</td>\n",
       "    </tr>\n",
       "    <tr>\n",
       "      <th>Real Estate</th>\n",
       "      <td>0.699333</td>\n",
       "      <td>0.682751</td>\n",
       "      <td>0.637247</td>\n",
       "      <td>0.561161</td>\n",
       "      <td>0.731320</td>\n",
       "      <td>0.594689</td>\n",
       "      <td>0.788895</td>\n",
       "      <td>0.681074</td>\n",
       "      <td>0.702394</td>\n",
       "      <td>1.000000</td>\n",
       "      <td>0.578586</td>\n",
       "    </tr>\n",
       "    <tr>\n",
       "      <th>Energy</th>\n",
       "      <td>0.767072</td>\n",
       "      <td>0.583366</td>\n",
       "      <td>0.577931</td>\n",
       "      <td>0.528299</td>\n",
       "      <td>0.496202</td>\n",
       "      <td>0.561368</td>\n",
       "      <td>0.432517</td>\n",
       "      <td>0.765390</td>\n",
       "      <td>0.751721</td>\n",
       "      <td>0.578586</td>\n",
       "      <td>1.000000</td>\n",
       "    </tr>\n",
       "  </tbody>\n",
       "</table>\n",
       "</div>"
      ],
      "text/plain": [
       "                        Industrials  Health Care  Information Technology  \\\n",
       "Industrials                1.000000     0.737253                0.724342   \n",
       "Health Care                0.737253     1.000000                0.802485   \n",
       "Information Technology     0.724342     0.802485                1.000000   \n",
       "Communication Services     0.638057     0.722231                0.855627   \n",
       "Consumer Staples           0.658492     0.734903                0.685432   \n",
       "Consumer Discretionary     0.675090     0.686181                0.829389   \n",
       "Utilities                  0.554631     0.599030                0.498285   \n",
       "Financials                 0.869537     0.726961                0.713929   \n",
       "Materials                  0.871162     0.753370                0.748902   \n",
       "Real Estate                0.699333     0.682751                0.637247   \n",
       "Energy                     0.767072     0.583366                0.577931   \n",
       "\n",
       "                        Communication Services  Consumer Staples  \\\n",
       "Industrials                           0.638057          0.658492   \n",
       "Health Care                           0.722231          0.734903   \n",
       "Information Technology                0.855627          0.685432   \n",
       "Communication Services                1.000000          0.612509   \n",
       "Consumer Staples                      0.612509          1.000000   \n",
       "Consumer Discretionary                0.777723          0.594174   \n",
       "Utilities                             0.431115          0.745564   \n",
       "Financials                            0.632738          0.633236   \n",
       "Materials                             0.650588          0.678632   \n",
       "Real Estate                           0.561161          0.731320   \n",
       "Energy                                0.528299          0.496202   \n",
       "\n",
       "                        Consumer Discretionary  Utilities  Financials  \\\n",
       "Industrials                           0.675090   0.554631    0.869537   \n",
       "Health Care                           0.686181   0.599030    0.726961   \n",
       "Information Technology                0.829389   0.498285    0.713929   \n",
       "Communication Services                0.777723   0.431115    0.632738   \n",
       "Consumer Staples                      0.594174   0.745564    0.633236   \n",
       "Consumer Discretionary                1.000000   0.418429    0.651454   \n",
       "Utilities                             0.418429   1.000000    0.514567   \n",
       "Financials                            0.651454   0.514567    1.000000   \n",
       "Materials                             0.690899   0.570629    0.836677   \n",
       "Real Estate                           0.594689   0.788895    0.681074   \n",
       "Energy                                0.561368   0.432517    0.765390   \n",
       "\n",
       "                        Materials  Real Estate    Energy  \n",
       "Industrials              0.871162     0.699333  0.767072  \n",
       "Health Care              0.753370     0.682751  0.583366  \n",
       "Information Technology   0.748902     0.637247  0.577931  \n",
       "Communication Services   0.650588     0.561161  0.528299  \n",
       "Consumer Staples         0.678632     0.731320  0.496202  \n",
       "Consumer Discretionary   0.690899     0.594689  0.561368  \n",
       "Utilities                0.570629     0.788895  0.432517  \n",
       "Financials               0.836677     0.681074  0.765390  \n",
       "Materials                1.000000     0.702394  0.751721  \n",
       "Real Estate              0.702394     1.000000  0.578586  \n",
       "Energy                   0.751721     0.578586  1.000000  "
      ]
     },
     "execution_count": 136,
     "metadata": {},
     "output_type": "execute_result"
    }
   ],
   "source": [
    "return_each_sector = data.copy()\n",
    "return_each_sector.corr()"
   ]
  },
  {
   "cell_type": "code",
   "execution_count": 137,
   "metadata": {},
   "outputs": [
    {
     "data": {
      "text/plain": [
       "<AxesSubplot:xlabel='Date'>"
      ]
     },
     "execution_count": 137,
     "metadata": {},
     "output_type": "execute_result"
    },
    {
     "data": {
      "image/png": "[encoded data removed]",
      "text/plain": [
       "<Figure size 864x576 with 1 Axes>"
      ]
     },
     "metadata": {
      "needs_background": "light"
     },
     "output_type": "display_data"
    }
   ],
   "source": [
    "daily_cum_ret = (1+return_each_sector).cumprod()\n",
    "daily_cum_ret.plot(legend=True, figsize=(12,8))\n",
    "plt.savefig"
   ]
  },
  {
   "cell_type": "code",
   "execution_count": 216,
   "metadata": {},
   "outputs": [
    {
     "data": {
      "text/plain": [
       "pandas.core.frame.DataFrame"
      ]
     },
     "execution_count": 216,
     "metadata": {},
     "output_type": "execute_result"
    }
   ],
   "source": [
    "daily_cum_ret"
   ]
  },
  {
   "cell_type": "code",
   "execution_count": 139,
   "metadata": {},
   "outputs": [
    {
     "data": {
      "text/html": [
       "<div>\n",
       "<style scoped>\n",
       "    .dataframe tbody tr th:only-of-type {\n",
       "        vertical-align: middle;\n",
       "    }\n",
       "\n",
       "    .dataframe tbody tr th {\n",
       "        vertical-align: top;\n",
       "    }\n",
       "\n",
       "    .dataframe thead th {\n",
       "        text-align: right;\n",
       "    }\n",
       "</style>\n",
       "<table border=\"1\" class=\"dataframe\">\n",
       "  <thead>\n",
       "    <tr style=\"text-align: right;\">\n",
       "      <th></th>\n",
       "      <th>Industrials</th>\n",
       "      <th>Health Care</th>\n",
       "      <th>Information Technology</th>\n",
       "      <th>Communication Services</th>\n",
       "      <th>Consumer Staples</th>\n",
       "      <th>Consumer Discretionary</th>\n",
       "      <th>Utilities</th>\n",
       "      <th>Financials</th>\n",
       "      <th>Materials</th>\n",
       "      <th>Real Estate</th>\n",
       "      <th>Energy</th>\n",
       "    </tr>\n",
       "  </thead>\n",
       "  <tbody>\n",
       "    <tr>\n",
       "      <th>Industrials</th>\n",
       "      <td>0.000224</td>\n",
       "      <td>0.000131</td>\n",
       "      <td>0.000170</td>\n",
       "      <td>0.000139</td>\n",
       "      <td>0.000100</td>\n",
       "      <td>0.000154</td>\n",
       "      <td>0.000111</td>\n",
       "      <td>0.000223</td>\n",
       "      <td>0.000187</td>\n",
       "      <td>0.000148</td>\n",
       "      <td>0.000240</td>\n",
       "    </tr>\n",
       "    <tr>\n",
       "      <th>Health Care</th>\n",
       "      <td>0.000131</td>\n",
       "      <td>0.000141</td>\n",
       "      <td>0.000149</td>\n",
       "      <td>0.000124</td>\n",
       "      <td>0.000088</td>\n",
       "      <td>0.000124</td>\n",
       "      <td>0.000095</td>\n",
       "      <td>0.000147</td>\n",
       "      <td>0.000128</td>\n",
       "      <td>0.000115</td>\n",
       "      <td>0.000145</td>\n",
       "    </tr>\n",
       "    <tr>\n",
       "      <th>Information Technology</th>\n",
       "      <td>0.000170</td>\n",
       "      <td>0.000149</td>\n",
       "      <td>0.000244</td>\n",
       "      <td>0.000194</td>\n",
       "      <td>0.000109</td>\n",
       "      <td>0.000198</td>\n",
       "      <td>0.000104</td>\n",
       "      <td>0.000191</td>\n",
       "      <td>0.000167</td>\n",
       "      <td>0.000141</td>\n",
       "      <td>0.000189</td>\n",
       "    </tr>\n",
       "    <tr>\n",
       "      <th>Communication Services</th>\n",
       "      <td>0.000139</td>\n",
       "      <td>0.000124</td>\n",
       "      <td>0.000194</td>\n",
       "      <td>0.000211</td>\n",
       "      <td>0.000090</td>\n",
       "      <td>0.000173</td>\n",
       "      <td>0.000083</td>\n",
       "      <td>0.000157</td>\n",
       "      <td>0.000135</td>\n",
       "      <td>0.000115</td>\n",
       "      <td>0.000161</td>\n",
       "    </tr>\n",
       "    <tr>\n",
       "      <th>Consumer Staples</th>\n",
       "      <td>0.000100</td>\n",
       "      <td>0.000088</td>\n",
       "      <td>0.000109</td>\n",
       "      <td>0.000090</td>\n",
       "      <td>0.000103</td>\n",
       "      <td>0.000092</td>\n",
       "      <td>0.000101</td>\n",
       "      <td>0.000110</td>\n",
       "      <td>0.000098</td>\n",
       "      <td>0.000105</td>\n",
       "      <td>0.000105</td>\n",
       "    </tr>\n",
       "    <tr>\n",
       "      <th>Consumer Discretionary</th>\n",
       "      <td>0.000154</td>\n",
       "      <td>0.000124</td>\n",
       "      <td>0.000198</td>\n",
       "      <td>0.000173</td>\n",
       "      <td>0.000092</td>\n",
       "      <td>0.000234</td>\n",
       "      <td>0.000085</td>\n",
       "      <td>0.000170</td>\n",
       "      <td>0.000151</td>\n",
       "      <td>0.000129</td>\n",
       "      <td>0.000180</td>\n",
       "    </tr>\n",
       "    <tr>\n",
       "      <th>Utilities</th>\n",
       "      <td>0.000111</td>\n",
       "      <td>0.000095</td>\n",
       "      <td>0.000104</td>\n",
       "      <td>0.000083</td>\n",
       "      <td>0.000101</td>\n",
       "      <td>0.000085</td>\n",
       "      <td>0.000177</td>\n",
       "      <td>0.000117</td>\n",
       "      <td>0.000109</td>\n",
       "      <td>0.000149</td>\n",
       "      <td>0.000121</td>\n",
       "    </tr>\n",
       "    <tr>\n",
       "      <th>Financials</th>\n",
       "      <td>0.000223</td>\n",
       "      <td>0.000147</td>\n",
       "      <td>0.000191</td>\n",
       "      <td>0.000157</td>\n",
       "      <td>0.000110</td>\n",
       "      <td>0.000170</td>\n",
       "      <td>0.000117</td>\n",
       "      <td>0.000292</td>\n",
       "      <td>0.000205</td>\n",
       "      <td>0.000165</td>\n",
       "      <td>0.000274</td>\n",
       "    </tr>\n",
       "    <tr>\n",
       "      <th>Materials</th>\n",
       "      <td>0.000187</td>\n",
       "      <td>0.000128</td>\n",
       "      <td>0.000167</td>\n",
       "      <td>0.000135</td>\n",
       "      <td>0.000098</td>\n",
       "      <td>0.000151</td>\n",
       "      <td>0.000109</td>\n",
       "      <td>0.000205</td>\n",
       "      <td>0.000205</td>\n",
       "      <td>0.000142</td>\n",
       "      <td>0.000225</td>\n",
       "    </tr>\n",
       "    <tr>\n",
       "      <th>Real Estate</th>\n",
       "      <td>0.000148</td>\n",
       "      <td>0.000115</td>\n",
       "      <td>0.000141</td>\n",
       "      <td>0.000115</td>\n",
       "      <td>0.000105</td>\n",
       "      <td>0.000129</td>\n",
       "      <td>0.000149</td>\n",
       "      <td>0.000165</td>\n",
       "      <td>0.000142</td>\n",
       "      <td>0.000200</td>\n",
       "      <td>0.000171</td>\n",
       "    </tr>\n",
       "    <tr>\n",
       "      <th>Energy</th>\n",
       "      <td>0.000240</td>\n",
       "      <td>0.000145</td>\n",
       "      <td>0.000189</td>\n",
       "      <td>0.000161</td>\n",
       "      <td>0.000105</td>\n",
       "      <td>0.000180</td>\n",
       "      <td>0.000121</td>\n",
       "      <td>0.000274</td>\n",
       "      <td>0.000225</td>\n",
       "      <td>0.000171</td>\n",
       "      <td>0.000438</td>\n",
       "    </tr>\n",
       "  </tbody>\n",
       "</table>\n",
       "</div>"
      ],
      "text/plain": [
       "                        Industrials  Health Care  Information Technology  \\\n",
       "Industrials                0.000224     0.000131                0.000170   \n",
       "Health Care                0.000131     0.000141                0.000149   \n",
       "Information Technology     0.000170     0.000149                0.000244   \n",
       "Communication Services     0.000139     0.000124                0.000194   \n",
       "Consumer Staples           0.000100     0.000088                0.000109   \n",
       "Consumer Discretionary     0.000154     0.000124                0.000198   \n",
       "Utilities                  0.000111     0.000095                0.000104   \n",
       "Financials                 0.000223     0.000147                0.000191   \n",
       "Materials                  0.000187     0.000128                0.000167   \n",
       "Real Estate                0.000148     0.000115                0.000141   \n",
       "Energy                     0.000240     0.000145                0.000189   \n",
       "\n",
       "                        Communication Services  Consumer Staples  \\\n",
       "Industrials                           0.000139          0.000100   \n",
       "Health Care                           0.000124          0.000088   \n",
       "Information Technology                0.000194          0.000109   \n",
       "Communication Services                0.000211          0.000090   \n",
       "Consumer Staples                      0.000090          0.000103   \n",
       "Consumer Discretionary                0.000173          0.000092   \n",
       "Utilities                             0.000083          0.000101   \n",
       "Financials                            0.000157          0.000110   \n",
       "Materials                             0.000135          0.000098   \n",
       "Real Estate                           0.000115          0.000105   \n",
       "Energy                                0.000161          0.000105   \n",
       "\n",
       "                        Consumer Discretionary  Utilities  Financials  \\\n",
       "Industrials                           0.000154   0.000111    0.000223   \n",
       "Health Care                           0.000124   0.000095    0.000147   \n",
       "Information Technology                0.000198   0.000104    0.000191   \n",
       "Communication Services                0.000173   0.000083    0.000157   \n",
       "Consumer Staples                      0.000092   0.000101    0.000110   \n",
       "Consumer Discretionary                0.000234   0.000085    0.000170   \n",
       "Utilities                             0.000085   0.000177    0.000117   \n",
       "Financials                            0.000170   0.000117    0.000292   \n",
       "Materials                             0.000151   0.000109    0.000205   \n",
       "Real Estate                           0.000129   0.000149    0.000165   \n",
       "Energy                                0.000180   0.000121    0.000274   \n",
       "\n",
       "                        Materials  Real Estate    Energy  \n",
       "Industrials              0.000187     0.000148  0.000240  \n",
       "Health Care              0.000128     0.000115  0.000145  \n",
       "Information Technology   0.000167     0.000141  0.000189  \n",
       "Communication Services   0.000135     0.000115  0.000161  \n",
       "Consumer Staples         0.000098     0.000105  0.000105  \n",
       "Consumer Discretionary   0.000151     0.000129  0.000180  \n",
       "Utilities                0.000109     0.000149  0.000121  \n",
       "Financials               0.000205     0.000165  0.000274  \n",
       "Materials                0.000205     0.000142  0.000225  \n",
       "Real Estate              0.000142     0.000200  0.000171  \n",
       "Energy                   0.000225     0.000171  0.000438  "
      ]
     },
     "execution_count": 139,
     "metadata": {},
     "output_type": "execute_result"
    }
   ],
   "source": [
    "data.cov()"
   ]
  },
  {
   "cell_type": "code",
   "execution_count": 140,
   "metadata": {},
   "outputs": [
    {
     "data": {
      "text/plain": [
       "Industrials               0.000557\n",
       "Health Care               0.000777\n",
       "Information Technology    0.001347\n",
       "Communication Services    0.000828\n",
       "Consumer Staples          0.000558\n",
       "Consumer Discretionary    0.001357\n",
       "Utilities                 0.000639\n",
       "Financials                0.000688\n",
       "Materials                 0.000846\n",
       "Real Estate               0.000565\n",
       "Energy                    0.000195\n",
       "dtype: float64"
      ]
     },
     "execution_count": 140,
     "metadata": {},
     "output_type": "execute_result"
    }
   ],
   "source": [
    "data.mean()"
   ]
  },
  {
   "cell_type": "markdown",
   "metadata": {},
   "source": [
    "##  markovitz"
   ]
  },
  {
   "cell_type": "code",
   "execution_count": 176,
   "metadata": {},
   "outputs": [],
   "source": [
    "from pypfopt.efficient_frontier import EfficientFrontier\n",
    "from pypfopt import risk_models\n",
    "from pypfopt import expected_returns"
   ]
  },
  {
   "cell_type": "markdown",
   "metadata": {},
   "source": [
    "### Normal"
   ]
  },
  {
   "cell_type": "code",
   "execution_count": 192,
   "metadata": {},
   "outputs": [],
   "source": [
    "# Calculate expected annualized returns and sample covariance\n",
    "mu = expected_returns.mean_historical_return(data, returns_data=True)\n",
    "Sigma = risk_models.sample_cov(data, returns_data=True)"
   ]
  },
  {
   "cell_type": "code",
   "execution_count": 183,
   "metadata": {},
   "outputs": [],
   "source": [
    "# Obtain the EfficientFrontier\n",
    "ef = EfficientFrontier(mu, Sigma)"
   ]
  },
  {
   "cell_type": "code",
   "execution_count": 184,
   "metadata": {},
   "outputs": [
    {
     "data": {
      "text/plain": [
       "OrderedDict([('Industrials', 0.0),\n",
       "             ('Health Care', 0.0),\n",
       "             ('Information Technology', 0.3933256928742933),\n",
       "             ('Communication Services', 0.0),\n",
       "             ('Consumer Staples', 0.0),\n",
       "             ('Consumer Discretionary', 0.6066743071257066),\n",
       "             ('Utilities', 0.0),\n",
       "             ('Financials', 0.0),\n",
       "             ('Materials', 0.0),\n",
       "             ('Real Estate', 0.0),\n",
       "             ('Energy', 0.0)])"
      ]
     },
     "execution_count": 184,
     "metadata": {},
     "output_type": "execute_result"
    }
   ],
   "source": [
    "ef.max_sharpe()"
   ]
  },
  {
   "cell_type": "code",
   "execution_count": 185,
   "metadata": {},
   "outputs": [
    {
     "name": "stdout",
     "output_type": "stream",
     "text": [
      "Expected annual return: 36.4%\n",
      "Annual volatility: 23.5%\n",
      "Sharpe Ratio: 1.47\n"
     ]
    },
    {
     "name": "stderr",
     "output_type": "stream",
     "text": [
      "/opt/anaconda3/lib/python3.8/site-packages/pypfopt/efficient_frontier/efficient_frontier.py:438: UserWarning: The risk_free_rate provided to portfolio_performance is different to the one used by max_sharpe. Using the previous value.\n",
      "  warnings.warn(\n"
     ]
    },
    {
     "data": {
      "text/plain": [
       "(0.3642154808563431, 0.23454589573640383, 1.4675826229046116)"
      ]
     },
     "execution_count": 185,
     "metadata": {},
     "output_type": "execute_result"
    }
   ],
   "source": [
    "# Obtain the performance number\n",
    "ef.portfolio_performance(verbose=True, risk_free_rate=0.01)"
   ]
  },
  {
   "cell_type": "code",
   "execution_count": 200,
   "metadata": {},
   "outputs": [],
   "source": [
    "mkt = sp500[1:]"
   ]
  },
  {
   "cell_type": "code",
   "execution_count": 205,
   "metadata": {},
   "outputs": [],
   "source": [
    "mkt = mkt.to_frame(name=\"mkt\")"
   ]
  },
  {
   "cell_type": "code",
   "execution_count": 195,
   "metadata": {},
   "outputs": [
    {
     "data": {
      "text/html": [
       "<div>\n",
       "<style scoped>\n",
       "    .dataframe tbody tr th:only-of-type {\n",
       "        vertical-align: middle;\n",
       "    }\n",
       "\n",
       "    .dataframe tbody tr th {\n",
       "        vertical-align: top;\n",
       "    }\n",
       "\n",
       "    .dataframe thead th {\n",
       "        text-align: right;\n",
       "    }\n",
       "</style>\n",
       "<table border=\"1\" class=\"dataframe\">\n",
       "  <thead>\n",
       "    <tr style=\"text-align: right;\">\n",
       "      <th></th>\n",
       "      <th>Industrials</th>\n",
       "      <th>Health Care</th>\n",
       "      <th>Information Technology</th>\n",
       "      <th>Communication Services</th>\n",
       "      <th>Consumer Staples</th>\n",
       "      <th>Consumer Discretionary</th>\n",
       "      <th>Utilities</th>\n",
       "      <th>Financials</th>\n",
       "      <th>Materials</th>\n",
       "      <th>Real Estate</th>\n",
       "      <th>Energy</th>\n",
       "    </tr>\n",
       "    <tr>\n",
       "      <th>Date</th>\n",
       "      <th></th>\n",
       "      <th></th>\n",
       "      <th></th>\n",
       "      <th></th>\n",
       "      <th></th>\n",
       "      <th></th>\n",
       "      <th></th>\n",
       "      <th></th>\n",
       "      <th></th>\n",
       "      <th></th>\n",
       "      <th></th>\n",
       "    </tr>\n",
       "  </thead>\n",
       "  <tbody>\n",
       "    <tr>\n",
       "      <th>2016-01-04</th>\n",
       "      <td>-0.012585</td>\n",
       "      <td>-0.019881</td>\n",
       "      <td>-0.013278</td>\n",
       "      <td>-0.021780</td>\n",
       "      <td>-0.010981</td>\n",
       "      <td>-0.037776</td>\n",
       "      <td>-0.002381</td>\n",
       "      <td>-0.023390</td>\n",
       "      <td>-0.011172</td>\n",
       "      <td>-0.010309</td>\n",
       "      <td>-0.003591</td>\n",
       "    </tr>\n",
       "    <tr>\n",
       "      <th>2016-01-05</th>\n",
       "      <td>0.000393</td>\n",
       "      <td>0.004879</td>\n",
       "      <td>-0.006036</td>\n",
       "      <td>0.000794</td>\n",
       "      <td>0.008558</td>\n",
       "      <td>-0.000238</td>\n",
       "      <td>0.008208</td>\n",
       "      <td>0.000367</td>\n",
       "      <td>-0.000174</td>\n",
       "      <td>0.018684</td>\n",
       "      <td>0.006347</td>\n",
       "    </tr>\n",
       "    <tr>\n",
       "      <th>2016-01-06</th>\n",
       "      <td>-0.016176</td>\n",
       "      <td>-0.007542</td>\n",
       "      <td>-0.019039</td>\n",
       "      <td>0.002575</td>\n",
       "      <td>-0.003820</td>\n",
       "      <td>-0.012250</td>\n",
       "      <td>-0.002152</td>\n",
       "      <td>-0.018365</td>\n",
       "      <td>-0.025901</td>\n",
       "      <td>-0.004701</td>\n",
       "      <td>-0.039345</td>\n",
       "    </tr>\n",
       "    <tr>\n",
       "      <th>2016-01-07</th>\n",
       "      <td>-0.028866</td>\n",
       "      <td>-0.020785</td>\n",
       "      <td>-0.033618</td>\n",
       "      <td>-0.024614</td>\n",
       "      <td>-0.009411</td>\n",
       "      <td>-0.027242</td>\n",
       "      <td>-0.006503</td>\n",
       "      <td>-0.031702</td>\n",
       "      <td>-0.028528</td>\n",
       "      <td>-0.021234</td>\n",
       "      <td>-0.026684</td>\n",
       "    </tr>\n",
       "    <tr>\n",
       "      <th>2016-01-08</th>\n",
       "      <td>-0.011108</td>\n",
       "      <td>-0.011896</td>\n",
       "      <td>-0.006763</td>\n",
       "      <td>-0.011521</td>\n",
       "      <td>-0.010065</td>\n",
       "      <td>-0.012367</td>\n",
       "      <td>0.000880</td>\n",
       "      <td>-0.016966</td>\n",
       "      <td>-0.010848</td>\n",
       "      <td>-0.009387</td>\n",
       "      <td>-0.011862</td>\n",
       "    </tr>\n",
       "    <tr>\n",
       "      <th>...</th>\n",
       "      <td>...</td>\n",
       "      <td>...</td>\n",
       "      <td>...</td>\n",
       "      <td>...</td>\n",
       "      <td>...</td>\n",
       "      <td>...</td>\n",
       "      <td>...</td>\n",
       "      <td>...</td>\n",
       "      <td>...</td>\n",
       "      <td>...</td>\n",
       "      <td>...</td>\n",
       "    </tr>\n",
       "    <tr>\n",
       "      <th>2020-12-23</th>\n",
       "      <td>0.007629</td>\n",
       "      <td>0.000815</td>\n",
       "      <td>-0.008481</td>\n",
       "      <td>0.004123</td>\n",
       "      <td>0.002733</td>\n",
       "      <td>0.001677</td>\n",
       "      <td>-0.001907</td>\n",
       "      <td>0.017666</td>\n",
       "      <td>0.000448</td>\n",
       "      <td>-0.008917</td>\n",
       "      <td>0.023643</td>\n",
       "    </tr>\n",
       "    <tr>\n",
       "      <th>2020-12-24</th>\n",
       "      <td>-0.002732</td>\n",
       "      <td>0.002635</td>\n",
       "      <td>0.007370</td>\n",
       "      <td>0.002299</td>\n",
       "      <td>0.004718</td>\n",
       "      <td>0.002840</td>\n",
       "      <td>0.006976</td>\n",
       "      <td>-0.000524</td>\n",
       "      <td>0.005536</td>\n",
       "      <td>0.009320</td>\n",
       "      <td>-0.006731</td>\n",
       "    </tr>\n",
       "    <tr>\n",
       "      <th>2020-12-28</th>\n",
       "      <td>0.001141</td>\n",
       "      <td>0.002545</td>\n",
       "      <td>0.011620</td>\n",
       "      <td>0.020674</td>\n",
       "      <td>0.008756</td>\n",
       "      <td>0.013269</td>\n",
       "      <td>0.004810</td>\n",
       "      <td>0.004682</td>\n",
       "      <td>-0.001746</td>\n",
       "      <td>0.008459</td>\n",
       "      <td>-0.005831</td>\n",
       "    </tr>\n",
       "    <tr>\n",
       "      <th>2020-12-29</th>\n",
       "      <td>-0.007241</td>\n",
       "      <td>0.003808</td>\n",
       "      <td>-0.005619</td>\n",
       "      <td>-0.004499</td>\n",
       "      <td>-0.002643</td>\n",
       "      <td>0.001808</td>\n",
       "      <td>-0.000680</td>\n",
       "      <td>-0.004722</td>\n",
       "      <td>-0.002075</td>\n",
       "      <td>-0.007641</td>\n",
       "      <td>-0.006789</td>\n",
       "    </tr>\n",
       "    <tr>\n",
       "      <th>2020-12-30</th>\n",
       "      <td>0.007971</td>\n",
       "      <td>-0.000207</td>\n",
       "      <td>-0.000511</td>\n",
       "      <td>-0.009690</td>\n",
       "      <td>-0.000793</td>\n",
       "      <td>0.005799</td>\n",
       "      <td>0.005136</td>\n",
       "      <td>0.005038</td>\n",
       "      <td>0.014073</td>\n",
       "      <td>0.004909</td>\n",
       "      <td>0.017888</td>\n",
       "    </tr>\n",
       "  </tbody>\n",
       "</table>\n",
       "<p>1261 rows × 11 columns</p>\n",
       "</div>"
      ],
      "text/plain": [
       "            Industrials  Health Care  Information Technology  \\\n",
       "Date                                                           \n",
       "2016-01-04    -0.012585    -0.019881               -0.013278   \n",
       "2016-01-05     0.000393     0.004879               -0.006036   \n",
       "2016-01-06    -0.016176    -0.007542               -0.019039   \n",
       "2016-01-07    -0.028866    -0.020785               -0.033618   \n",
       "2016-01-08    -0.011108    -0.011896               -0.006763   \n",
       "...                 ...          ...                     ...   \n",
       "2020-12-23     0.007629     0.000815               -0.008481   \n",
       "2020-12-24    -0.002732     0.002635                0.007370   \n",
       "2020-12-28     0.001141     0.002545                0.011620   \n",
       "2020-12-29    -0.007241     0.003808               -0.005619   \n",
       "2020-12-30     0.007971    -0.000207               -0.000511   \n",
       "\n",
       "            Communication Services  Consumer Staples  Consumer Discretionary  \\\n",
       "Date                                                                           \n",
       "2016-01-04               -0.021780         -0.010981               -0.037776   \n",
       "2016-01-05                0.000794          0.008558               -0.000238   \n",
       "2016-01-06                0.002575         -0.003820               -0.012250   \n",
       "2016-01-07               -0.024614         -0.009411               -0.027242   \n",
       "2016-01-08               -0.011521         -0.010065               -0.012367   \n",
       "...                            ...               ...                     ...   \n",
       "2020-12-23                0.004123          0.002733                0.001677   \n",
       "2020-12-24                0.002299          0.004718                0.002840   \n",
       "2020-12-28                0.020674          0.008756                0.013269   \n",
       "2020-12-29               -0.004499         -0.002643                0.001808   \n",
       "2020-12-30               -0.009690         -0.000793                0.005799   \n",
       "\n",
       "            Utilities  Financials  Materials  Real Estate    Energy  \n",
       "Date                                                                 \n",
       "2016-01-04  -0.002381   -0.023390  -0.011172    -0.010309 -0.003591  \n",
       "2016-01-05   0.008208    0.000367  -0.000174     0.018684  0.006347  \n",
       "2016-01-06  -0.002152   -0.018365  -0.025901    -0.004701 -0.039345  \n",
       "2016-01-07  -0.006503   -0.031702  -0.028528    -0.021234 -0.026684  \n",
       "2016-01-08   0.000880   -0.016966  -0.010848    -0.009387 -0.011862  \n",
       "...               ...         ...        ...          ...       ...  \n",
       "2020-12-23  -0.001907    0.017666   0.000448    -0.008917  0.023643  \n",
       "2020-12-24   0.006976   -0.000524   0.005536     0.009320 -0.006731  \n",
       "2020-12-28   0.004810    0.004682  -0.001746     0.008459 -0.005831  \n",
       "2020-12-29  -0.000680   -0.004722  -0.002075    -0.007641 -0.006789  \n",
       "2020-12-30   0.005136    0.005038   0.014073     0.004909  0.017888  \n",
       "\n",
       "[1261 rows x 11 columns]"
      ]
     },
     "execution_count": 195,
     "metadata": {},
     "output_type": "execute_result"
    }
   ],
   "source": [
    "data"
   ]
  },
  {
   "cell_type": "code",
   "execution_count": 209,
   "metadata": {},
   "outputs": [],
   "source": [
    "mu_capm = expected_returns.capm_return(data, returns_data=True, market_prices=mkt.pct_change())\n",
    "Sigma = risk_models.sample_cov(data, returns_data=True)"
   ]
  },
  {
   "cell_type": "code",
   "execution_count": 211,
   "metadata": {},
   "outputs": [
    {
     "data": {
      "text/plain": [
       "Industrials               0.140237\n",
       "Health Care               0.117580\n",
       "Information Technology    0.153762\n",
       "Communication Services    0.132663\n",
       "Consumer Staples          0.095093\n",
       "Consumer Discretionary    0.136181\n",
       "Utilities                 0.098253\n",
       "Financials                0.157245\n",
       "Materials                 0.135783\n",
       "Real Estate               0.120097\n",
       "Energy                    0.160985\n",
       "Name: mkt, dtype: float64"
      ]
     },
     "execution_count": 211,
     "metadata": {},
     "output_type": "execute_result"
    }
   ],
   "source": [
    "mu_capm"
   ]
  },
  {
   "cell_type": "code",
   "execution_count": 212,
   "metadata": {},
   "outputs": [
    {
     "data": {
      "text/plain": [
       "OrderedDict([('Industrials', 0.0623673296773674),\n",
       "             ('Health Care', 0.1674323537032797),\n",
       "             ('Information Technology', 0.242823155380879),\n",
       "             ('Communication Services', 0.0829796439342337),\n",
       "             ('Consumer Staples', 0.1428126185095493),\n",
       "             ('Consumer Discretionary', 0.0399439206223213),\n",
       "             ('Utilities', 0.0296521336497114),\n",
       "             ('Financials', 0.1269216020800746),\n",
       "             ('Materials', 0.0560846927396644),\n",
       "             ('Real Estate', 0.0143935001706709),\n",
       "             ('Energy', 0.0345890495322484)])"
      ]
     },
     "execution_count": 212,
     "metadata": {},
     "output_type": "execute_result"
    }
   ],
   "source": [
    "ef = EfficientFrontier(mu_capm, Sigma)\n",
    "ef.max_sharpe()"
   ]
  },
  {
   "cell_type": "code",
   "execution_count": 214,
   "metadata": {},
   "outputs": [
    {
     "name": "stdout",
     "output_type": "stream",
     "text": [
      "Expected annual return: 13.4%\n",
      "Annual volatility: 19.6%\n",
      "Sharpe Ratio: 0.58\n"
     ]
    },
    {
     "data": {
      "text/plain": [
       "(0.13358173236568782, 0.19605673160383444, 0.5793309489377737)"
      ]
     },
     "execution_count": 214,
     "metadata": {},
     "output_type": "execute_result"
    }
   ],
   "source": [
    "# Obtain the performance number\n",
    "ef.portfolio_performance(verbose=True, risk_free_rate=0.01)"
   ]
  },
  {
   "cell_type": "markdown",
   "metadata": {},
   "source": [
    "### Maximum Sharpe portfolio"
   ]
  },
  {
   "cell_type": "code",
   "execution_count": 235,
   "metadata": {},
   "outputs": [
    {
     "name": "stdout",
     "output_type": "stream",
     "text": [
      "Expected annual return: 36.4%\n",
      "Annual volatility: 23.5%\n",
      "Sharpe Ratio: 1.47\n"
     ]
    },
    {
     "data": {
      "text/plain": [
       "(0.3642154808563431, 0.23454589573640383, 1.4675826229046116)"
      ]
     },
     "execution_count": 235,
     "metadata": {},
     "output_type": "execute_result"
    }
   ],
   "source": [
    "# calculate the ef with mu and S\n",
    "ef = EfficientFrontier(mu, Sigma)\n",
    "raw_weights = ef.max_sharpe()\n",
    "# get interpretable weight\n",
    "cleaned_weights = ef.clean_weights()\n",
    "# get performance numbers\n",
    "ef.portfolio_performance(verbose=True)"
   ]
  },
  {
   "cell_type": "code",
   "execution_count": 220,
   "metadata": {},
   "outputs": [],
   "source": [
    "## CAPM\n",
    "ef = EfficientFrontier(mu_capm, Sigma)\n",
    "raw_weights = ef.max_sharpe()"
   ]
  },
  {
   "cell_type": "code",
   "execution_count": 221,
   "metadata": {},
   "outputs": [],
   "source": [
    "# get interpretable weight\n",
    "cleaned_weights = ef.clean_weights()"
   ]
  },
  {
   "cell_type": "code",
   "execution_count": 222,
   "metadata": {},
   "outputs": [
    {
     "name": "stdout",
     "output_type": "stream",
     "text": [
      "Expected annual return: 13.4%\n",
      "Annual volatility: 19.6%\n",
      "Sharpe Ratio: 0.58\n"
     ]
    },
    {
     "data": {
      "text/plain": [
       "(0.13358173236568782, 0.19605673160383444, 0.5793309489377737)"
      ]
     },
     "execution_count": 222,
     "metadata": {},
     "output_type": "execute_result"
    }
   ],
   "source": [
    "# get performance numbers\n",
    "ef.portfolio_performance(verbose=True)"
   ]
  },
  {
   "cell_type": "markdown",
   "metadata": {},
   "source": [
    "### Minimum Volatility Portfolio"
   ]
  },
  {
   "cell_type": "code",
   "execution_count": 241,
   "metadata": {},
   "outputs": [
    {
     "name": "stdout",
     "output_type": "stream",
     "text": [
      "Expected annual return: 14.9%\n",
      "Annual volatility: 15.8%\n",
      "Sharpe Ratio: 0.82\n"
     ]
    },
    {
     "data": {
      "text/plain": [
       "(0.1493429415390684, 0.1584435882443143, 0.8163343368595407)"
      ]
     },
     "execution_count": 241,
     "metadata": {},
     "output_type": "execute_result"
    }
   ],
   "source": [
    "# calculate the ef with mu and S\n",
    "ef = EfficientFrontier(mu, Sigma)\n",
    "raw_weights = ef.min_volatility()\n",
    "# get interpretable weight\n",
    "cleaned_weights = ef.clean_weights()\n",
    "ef.portfolio_performance(verbose=True)"
   ]
  },
  {
   "cell_type": "code",
   "execution_count": 226,
   "metadata": {},
   "outputs": [],
   "source": [
    "#### CAPM\n",
    "# calculate the ef with mu and S\n",
    "ef = EfficientFrontier(mu_capm, Sigma)\n",
    "raw_weights = ef.min_volatility()"
   ]
  },
  {
   "cell_type": "code",
   "execution_count": 227,
   "metadata": {},
   "outputs": [
    {
     "data": {
      "text/plain": [
       "OrderedDict([('Industrials', 0.0),\n",
       "             ('Health Care', 0.20073),\n",
       "             ('Information Technology', 0.0),\n",
       "             ('Communication Services', 0.02086),\n",
       "             ('Consumer Staples', 0.7706),\n",
       "             ('Consumer Discretionary', 0.0),\n",
       "             ('Utilities', 0.0078),\n",
       "             ('Financials', 0.0),\n",
       "             ('Materials', 0.0),\n",
       "             ('Real Estate', 0.0),\n",
       "             ('Energy', 0.0)])"
      ]
     },
     "execution_count": 227,
     "metadata": {},
     "output_type": "execute_result"
    }
   ],
   "source": [
    "# get interpretable weight\n",
    "cleaned_weights = ef.clean_weights()\n",
    "cleaned_weights"
   ]
  },
  {
   "cell_type": "code",
   "execution_count": 228,
   "metadata": {},
   "outputs": [
    {
     "name": "stdout",
     "output_type": "stream",
     "text": [
      "Expected annual return: 10.0%\n",
      "Annual volatility: 15.8%\n",
      "Sharpe Ratio: 0.51\n"
     ]
    },
    {
     "data": {
      "text/plain": [
       "(0.10041520018881932, 0.1584435882443143, 0.507532056550133)"
      ]
     },
     "execution_count": 228,
     "metadata": {},
     "output_type": "execute_result"
    }
   ],
   "source": [
    "ef.portfolio_performance(verbose=True)"
   ]
  },
  {
   "cell_type": "code",
   "execution_count": null,
   "metadata": {},
   "outputs": [],
   "source": []
  },
  {
   "cell_type": "code",
   "execution_count": null,
   "metadata": {},
   "outputs": [],
   "source": []
  },
  {
   "cell_type": "markdown",
   "metadata": {},
   "source": [
    "## Black Little Man Monthly"
   ]
  },
  {
   "cell_type": "code",
   "execution_count": 141,
   "metadata": {},
   "outputs": [
    {
     "data": {
      "text/plain": [
       "Industrials               0.011700\n",
       "Health Care               0.016327\n",
       "Information Technology    0.028281\n",
       "Communication Services    0.017395\n",
       "Consumer Staples          0.011715\n",
       "Consumer Discretionary    0.028487\n",
       "Utilities                 0.013428\n",
       "Financials                0.014450\n",
       "Materials                 0.017769\n",
       "Real Estate               0.011870\n",
       "Energy                    0.004093\n",
       "Name: mean, dtype: float64"
      ]
     },
     "execution_count": 141,
     "metadata": {},
     "output_type": "execute_result"
    }
   ],
   "source": [
    "pi = pd.Series(data.mean()*252/12, name=\"mean\")\n",
    "pi"
   ]
  },
  {
   "cell_type": "code",
   "execution_count": 142,
   "metadata": {},
   "outputs": [
    {
     "data": {
      "text/plain": [
       "['Industrials',\n",
       " 'Health Care',\n",
       " 'Information Technology',\n",
       " 'Communication Services',\n",
       " 'Consumer Staples',\n",
       " 'Consumer Discretionary',\n",
       " 'Utilities',\n",
       " 'Financials',\n",
       " 'Materials',\n",
       " 'Real Estate',\n",
       " 'Energy',\n",
       " 'views']"
      ]
     },
     "execution_count": 142,
     "metadata": {},
     "output_type": "execute_result"
    }
   ],
   "source": [
    "LinkP = []\n",
    "LinkP = type_sector_list + ['views']\n",
    "LinkP"
   ]
  },
  {
   "cell_type": "code",
   "execution_count": 143,
   "metadata": {},
   "outputs": [],
   "source": [
    "df_p = pd.DataFrame({'Industrials': [0,0], 'views': [0.015, 0.01], 'Health Care': [-1, 0],\n",
    "                    'Information Technology': [0,1], 'Consumer Discretionary': [1,0], 'Real Estate': [0,-1] },columns=LinkP)\n",
    "df_p = df_p.fillna(0)"
   ]
  },
  {
   "cell_type": "code",
   "execution_count": 144,
   "metadata": {},
   "outputs": [],
   "source": [
    "P = df_p[type_sector_list]\n",
    "Q = df_p.views\n",
    "S = data.cov()*252/12"
   ]
  },
  {
   "cell_type": "code",
   "execution_count": 146,
   "metadata": {},
   "outputs": [
    {
     "data": {
      "text/html": [
       "<div>\n",
       "<style scoped>\n",
       "    .dataframe tbody tr th:only-of-type {\n",
       "        vertical-align: middle;\n",
       "    }\n",
       "\n",
       "    .dataframe tbody tr th {\n",
       "        vertical-align: top;\n",
       "    }\n",
       "\n",
       "    .dataframe thead th {\n",
       "        text-align: right;\n",
       "    }\n",
       "</style>\n",
       "<table border=\"1\" class=\"dataframe\">\n",
       "  <thead>\n",
       "    <tr style=\"text-align: right;\">\n",
       "      <th></th>\n",
       "      <th>Industrials</th>\n",
       "      <th>Health Care</th>\n",
       "      <th>Information Technology</th>\n",
       "      <th>Communication Services</th>\n",
       "      <th>Consumer Staples</th>\n",
       "      <th>Consumer Discretionary</th>\n",
       "      <th>Utilities</th>\n",
       "      <th>Financials</th>\n",
       "      <th>Materials</th>\n",
       "      <th>Real Estate</th>\n",
       "      <th>Energy</th>\n",
       "    </tr>\n",
       "  </thead>\n",
       "  <tbody>\n",
       "    <tr>\n",
       "      <th>Industrials</th>\n",
       "      <td>0.004708</td>\n",
       "      <td>0.002748</td>\n",
       "      <td>0.003560</td>\n",
       "      <td>0.002917</td>\n",
       "      <td>0.002099</td>\n",
       "      <td>0.003244</td>\n",
       "      <td>0.002321</td>\n",
       "      <td>0.004674</td>\n",
       "      <td>0.003918</td>\n",
       "      <td>0.003111</td>\n",
       "      <td>0.005050</td>\n",
       "    </tr>\n",
       "    <tr>\n",
       "      <th>Health Care</th>\n",
       "      <td>0.002748</td>\n",
       "      <td>0.002952</td>\n",
       "      <td>0.003123</td>\n",
       "      <td>0.002614</td>\n",
       "      <td>0.001855</td>\n",
       "      <td>0.002610</td>\n",
       "      <td>0.001985</td>\n",
       "      <td>0.003094</td>\n",
       "      <td>0.002683</td>\n",
       "      <td>0.002405</td>\n",
       "      <td>0.003041</td>\n",
       "    </tr>\n",
       "    <tr>\n",
       "      <th>Information Technology</th>\n",
       "      <td>0.003560</td>\n",
       "      <td>0.003123</td>\n",
       "      <td>0.005132</td>\n",
       "      <td>0.004083</td>\n",
       "      <td>0.002281</td>\n",
       "      <td>0.004161</td>\n",
       "      <td>0.002177</td>\n",
       "      <td>0.004007</td>\n",
       "      <td>0.003516</td>\n",
       "      <td>0.002960</td>\n",
       "      <td>0.003972</td>\n",
       "    </tr>\n",
       "    <tr>\n",
       "      <th>Communication Services</th>\n",
       "      <td>0.002917</td>\n",
       "      <td>0.002614</td>\n",
       "      <td>0.004083</td>\n",
       "      <td>0.004438</td>\n",
       "      <td>0.001896</td>\n",
       "      <td>0.003628</td>\n",
       "      <td>0.001752</td>\n",
       "      <td>0.003303</td>\n",
       "      <td>0.002841</td>\n",
       "      <td>0.002424</td>\n",
       "      <td>0.003377</td>\n",
       "    </tr>\n",
       "    <tr>\n",
       "      <th>Consumer Staples</th>\n",
       "      <td>0.002099</td>\n",
       "      <td>0.001855</td>\n",
       "      <td>0.002281</td>\n",
       "      <td>0.001896</td>\n",
       "      <td>0.002159</td>\n",
       "      <td>0.001933</td>\n",
       "      <td>0.002113</td>\n",
       "      <td>0.002305</td>\n",
       "      <td>0.002067</td>\n",
       "      <td>0.002203</td>\n",
       "      <td>0.002212</td>\n",
       "    </tr>\n",
       "    <tr>\n",
       "      <th>Consumer Discretionary</th>\n",
       "      <td>0.003244</td>\n",
       "      <td>0.002610</td>\n",
       "      <td>0.004161</td>\n",
       "      <td>0.003628</td>\n",
       "      <td>0.001933</td>\n",
       "      <td>0.004904</td>\n",
       "      <td>0.001787</td>\n",
       "      <td>0.003574</td>\n",
       "      <td>0.003171</td>\n",
       "      <td>0.002700</td>\n",
       "      <td>0.003772</td>\n",
       "    </tr>\n",
       "    <tr>\n",
       "      <th>Utilities</th>\n",
       "      <td>0.002321</td>\n",
       "      <td>0.001985</td>\n",
       "      <td>0.002177</td>\n",
       "      <td>0.001752</td>\n",
       "      <td>0.002113</td>\n",
       "      <td>0.001787</td>\n",
       "      <td>0.003719</td>\n",
       "      <td>0.002459</td>\n",
       "      <td>0.002281</td>\n",
       "      <td>0.003119</td>\n",
       "      <td>0.002531</td>\n",
       "    </tr>\n",
       "    <tr>\n",
       "      <th>Financials</th>\n",
       "      <td>0.004674</td>\n",
       "      <td>0.003094</td>\n",
       "      <td>0.004007</td>\n",
       "      <td>0.003303</td>\n",
       "      <td>0.002305</td>\n",
       "      <td>0.003574</td>\n",
       "      <td>0.002459</td>\n",
       "      <td>0.006139</td>\n",
       "      <td>0.004297</td>\n",
       "      <td>0.003460</td>\n",
       "      <td>0.005754</td>\n",
       "    </tr>\n",
       "    <tr>\n",
       "      <th>Materials</th>\n",
       "      <td>0.003918</td>\n",
       "      <td>0.002683</td>\n",
       "      <td>0.003516</td>\n",
       "      <td>0.002841</td>\n",
       "      <td>0.002067</td>\n",
       "      <td>0.003171</td>\n",
       "      <td>0.002281</td>\n",
       "      <td>0.004297</td>\n",
       "      <td>0.004296</td>\n",
       "      <td>0.002985</td>\n",
       "      <td>0.004727</td>\n",
       "    </tr>\n",
       "    <tr>\n",
       "      <th>Real Estate</th>\n",
       "      <td>0.003111</td>\n",
       "      <td>0.002405</td>\n",
       "      <td>0.002960</td>\n",
       "      <td>0.002424</td>\n",
       "      <td>0.002203</td>\n",
       "      <td>0.002700</td>\n",
       "      <td>0.003119</td>\n",
       "      <td>0.003460</td>\n",
       "      <td>0.002985</td>\n",
       "      <td>0.004203</td>\n",
       "      <td>0.003599</td>\n",
       "    </tr>\n",
       "    <tr>\n",
       "      <th>Energy</th>\n",
       "      <td>0.005050</td>\n",
       "      <td>0.003041</td>\n",
       "      <td>0.003972</td>\n",
       "      <td>0.003377</td>\n",
       "      <td>0.002212</td>\n",
       "      <td>0.003772</td>\n",
       "      <td>0.002531</td>\n",
       "      <td>0.005754</td>\n",
       "      <td>0.004727</td>\n",
       "      <td>0.003599</td>\n",
       "      <td>0.009205</td>\n",
       "    </tr>\n",
       "  </tbody>\n",
       "</table>\n",
       "</div>"
      ],
      "text/plain": [
       "                        Industrials  Health Care  Information Technology  \\\n",
       "Industrials                0.004708     0.002748                0.003560   \n",
       "Health Care                0.002748     0.002952                0.003123   \n",
       "Information Technology     0.003560     0.003123                0.005132   \n",
       "Communication Services     0.002917     0.002614                0.004083   \n",
       "Consumer Staples           0.002099     0.001855                0.002281   \n",
       "Consumer Discretionary     0.003244     0.002610                0.004161   \n",
       "Utilities                  0.002321     0.001985                0.002177   \n",
       "Financials                 0.004674     0.003094                0.004007   \n",
       "Materials                  0.003918     0.002683                0.003516   \n",
       "Real Estate                0.003111     0.002405                0.002960   \n",
       "Energy                     0.005050     0.003041                0.003972   \n",
       "\n",
       "                        Communication Services  Consumer Staples  \\\n",
       "Industrials                           0.002917          0.002099   \n",
       "Health Care                           0.002614          0.001855   \n",
       "Information Technology                0.004083          0.002281   \n",
       "Communication Services                0.004438          0.001896   \n",
       "Consumer Staples                      0.001896          0.002159   \n",
       "Consumer Discretionary                0.003628          0.001933   \n",
       "Utilities                             0.001752          0.002113   \n",
       "Financials                            0.003303          0.002305   \n",
       "Materials                             0.002841          0.002067   \n",
       "Real Estate                           0.002424          0.002203   \n",
       "Energy                                0.003377          0.002212   \n",
       "\n",
       "                        Consumer Discretionary  Utilities  Financials  \\\n",
       "Industrials                           0.003244   0.002321    0.004674   \n",
       "Health Care                           0.002610   0.001985    0.003094   \n",
       "Information Technology                0.004161   0.002177    0.004007   \n",
       "Communication Services                0.003628   0.001752    0.003303   \n",
       "Consumer Staples                      0.001933   0.002113    0.002305   \n",
       "Consumer Discretionary                0.004904   0.001787    0.003574   \n",
       "Utilities                             0.001787   0.003719    0.002459   \n",
       "Financials                            0.003574   0.002459    0.006139   \n",
       "Materials                             0.003171   0.002281    0.004297   \n",
       "Real Estate                           0.002700   0.003119    0.003460   \n",
       "Energy                                0.003772   0.002531    0.005754   \n",
       "\n",
       "                        Materials  Real Estate    Energy  \n",
       "Industrials              0.003918     0.003111  0.005050  \n",
       "Health Care              0.002683     0.002405  0.003041  \n",
       "Information Technology   0.003516     0.002960  0.003972  \n",
       "Communication Services   0.002841     0.002424  0.003377  \n",
       "Consumer Staples         0.002067     0.002203  0.002212  \n",
       "Consumer Discretionary   0.003171     0.002700  0.003772  \n",
       "Utilities                0.002281     0.003119  0.002531  \n",
       "Financials               0.004297     0.003460  0.005754  \n",
       "Materials                0.004296     0.002985  0.004727  \n",
       "Real Estate              0.002985     0.004203  0.003599  \n",
       "Energy                   0.004727     0.003599  0.009205  "
      ]
     },
     "execution_count": 146,
     "metadata": {},
     "output_type": "execute_result"
    }
   ],
   "source": [
    "S"
   ]
  },
  {
   "cell_type": "code",
   "execution_count": 147,
   "metadata": {},
   "outputs": [
    {
     "data": {
      "text/html": [
       "<div>\n",
       "<style scoped>\n",
       "    .dataframe tbody tr th:only-of-type {\n",
       "        vertical-align: middle;\n",
       "    }\n",
       "\n",
       "    .dataframe tbody tr th {\n",
       "        vertical-align: top;\n",
       "    }\n",
       "\n",
       "    .dataframe thead th {\n",
       "        text-align: right;\n",
       "    }\n",
       "</style>\n",
       "<table border=\"1\" class=\"dataframe\">\n",
       "  <thead>\n",
       "    <tr style=\"text-align: right;\">\n",
       "      <th></th>\n",
       "      <th>Industrials</th>\n",
       "      <th>Health Care</th>\n",
       "      <th>Information Technology</th>\n",
       "      <th>Communication Services</th>\n",
       "      <th>Consumer Staples</th>\n",
       "      <th>Consumer Discretionary</th>\n",
       "      <th>Utilities</th>\n",
       "      <th>Financials</th>\n",
       "      <th>Materials</th>\n",
       "      <th>Real Estate</th>\n",
       "      <th>Energy</th>\n",
       "    </tr>\n",
       "  </thead>\n",
       "  <tbody>\n",
       "    <tr>\n",
       "      <th>0</th>\n",
       "      <td>0</td>\n",
       "      <td>-1</td>\n",
       "      <td>0</td>\n",
       "      <td>0</td>\n",
       "      <td>0</td>\n",
       "      <td>1</td>\n",
       "      <td>0</td>\n",
       "      <td>0</td>\n",
       "      <td>0</td>\n",
       "      <td>0</td>\n",
       "      <td>0</td>\n",
       "    </tr>\n",
       "    <tr>\n",
       "      <th>1</th>\n",
       "      <td>0</td>\n",
       "      <td>0</td>\n",
       "      <td>1</td>\n",
       "      <td>0</td>\n",
       "      <td>0</td>\n",
       "      <td>0</td>\n",
       "      <td>0</td>\n",
       "      <td>0</td>\n",
       "      <td>0</td>\n",
       "      <td>-1</td>\n",
       "      <td>0</td>\n",
       "    </tr>\n",
       "  </tbody>\n",
       "</table>\n",
       "</div>"
      ],
      "text/plain": [
       "   Industrials  Health Care  Information Technology  Communication Services  \\\n",
       "0            0           -1                       0                       0   \n",
       "1            0            0                       1                       0   \n",
       "\n",
       "   Consumer Staples  Consumer Discretionary  Utilities  Financials  Materials  \\\n",
       "0                 0                       1          0           0          0   \n",
       "1                 0                       0          0           0          0   \n",
       "\n",
       "   Real Estate  Energy  \n",
       "0            0       0  \n",
       "1           -1       0  "
      ]
     },
     "execution_count": 147,
     "metadata": {},
     "output_type": "execute_result"
    }
   ],
   "source": [
    "P"
   ]
  },
  {
   "cell_type": "code",
   "execution_count": 148,
   "metadata": {},
   "outputs": [
    {
     "data": {
      "text/plain": [
       "0    0.015\n",
       "1    0.010\n",
       "Name: views, dtype: float64"
      ]
     },
     "execution_count": 148,
     "metadata": {},
     "output_type": "execute_result"
    }
   ],
   "source": [
    "Q"
   ]
  },
  {
   "cell_type": "code",
   "execution_count": 175,
   "metadata": {},
   "outputs": [
    {
     "data": {
      "text/plain": [
       "array([[0.00263419, 0.00074233],\n",
       "       [0.00074233, 0.00341585]])"
      ]
     },
     "execution_count": 175,
     "metadata": {},
     "output_type": "execute_result"
    }
   ],
   "source": [
    "np.dot(np.dot(P, S), P.T)"
   ]
  },
  {
   "cell_type": "code",
   "execution_count": 149,
   "metadata": {},
   "outputs": [
    {
     "name": "stderr",
     "output_type": "stream",
     "text": [
      "<ipython-input-149-03c2cadc4362>:1: FutureWarning: Calling a ufunc on non-aligned DataFrames (or DataFrame/Series combination). Currently, the indices are ignored and the result takes the index/columns of the first DataFrame. In the future , the DataFrames/Series will be aligned before applying the ufunc.\n",
      "Convert one of the arguments to a NumPy array (eg 'ufunc(df1, np.asarray(df2)') to keep the current behaviour, or align manually (eg 'df1, df2 = df1.align(df2)') before passing to the ufunc to obtain the future behaviour and silence this warning.\n",
      "  omega = np.matmul(np.matmul(P, S), P.T)\n"
     ]
    },
    {
     "data": {
      "text/html": [
       "<div>\n",
       "<style scoped>\n",
       "    .dataframe tbody tr th:only-of-type {\n",
       "        vertical-align: middle;\n",
       "    }\n",
       "\n",
       "    .dataframe tbody tr th {\n",
       "        vertical-align: top;\n",
       "    }\n",
       "\n",
       "    .dataframe thead th {\n",
       "        text-align: right;\n",
       "    }\n",
       "</style>\n",
       "<table border=\"1\" class=\"dataframe\">\n",
       "  <thead>\n",
       "    <tr style=\"text-align: right;\">\n",
       "      <th></th>\n",
       "      <th>0</th>\n",
       "      <th>1</th>\n",
       "    </tr>\n",
       "  </thead>\n",
       "  <tbody>\n",
       "    <tr>\n",
       "      <th>0</th>\n",
       "      <td>0.002634</td>\n",
       "      <td>0.000742</td>\n",
       "    </tr>\n",
       "    <tr>\n",
       "      <th>1</th>\n",
       "      <td>0.000742</td>\n",
       "      <td>0.003416</td>\n",
       "    </tr>\n",
       "  </tbody>\n",
       "</table>\n",
       "</div>"
      ],
      "text/plain": [
       "          0         1\n",
       "0  0.002634  0.000742\n",
       "1  0.000742  0.003416"
      ]
     },
     "execution_count": 149,
     "metadata": {},
     "output_type": "execute_result"
    }
   ],
   "source": [
    "omega = np.matmul(np.matmul(P, S), P.T)\n",
    "omega"
   ]
  },
  {
   "cell_type": "code",
   "execution_count": 154,
   "metadata": {},
   "outputs": [
    {
     "data": {
      "text/html": [
       "<div>\n",
       "<style scoped>\n",
       "    .dataframe tbody tr th:only-of-type {\n",
       "        vertical-align: middle;\n",
       "    }\n",
       "\n",
       "    .dataframe tbody tr th {\n",
       "        vertical-align: top;\n",
       "    }\n",
       "\n",
       "    .dataframe thead th {\n",
       "        text-align: right;\n",
       "    }\n",
       "</style>\n",
       "<table border=\"1\" class=\"dataframe\">\n",
       "  <thead>\n",
       "    <tr style=\"text-align: right;\">\n",
       "      <th></th>\n",
       "      <th>Industrials</th>\n",
       "      <th>Health Care</th>\n",
       "      <th>Information Technology</th>\n",
       "      <th>Communication Services</th>\n",
       "      <th>Consumer Staples</th>\n",
       "      <th>Consumer Discretionary</th>\n",
       "      <th>Utilities</th>\n",
       "      <th>Financials</th>\n",
       "      <th>Materials</th>\n",
       "      <th>Real Estate</th>\n",
       "      <th>Energy</th>\n",
       "    </tr>\n",
       "  </thead>\n",
       "  <tbody>\n",
       "    <tr>\n",
       "      <th>Industrials</th>\n",
       "      <td>0.004646</td>\n",
       "      <td>0.002741</td>\n",
       "      <td>0.003372</td>\n",
       "      <td>0.002755</td>\n",
       "      <td>0.002089</td>\n",
       "      <td>0.002989</td>\n",
       "      <td>0.002382</td>\n",
       "      <td>0.004609</td>\n",
       "      <td>0.003853</td>\n",
       "      <td>0.003147</td>\n",
       "      <td>0.004973</td>\n",
       "    </tr>\n",
       "    <tr>\n",
       "      <th>Health Care</th>\n",
       "      <td>0.002741</td>\n",
       "      <td>0.002826</td>\n",
       "      <td>0.002952</td>\n",
       "      <td>0.002505</td>\n",
       "      <td>0.001853</td>\n",
       "      <td>0.002655</td>\n",
       "      <td>0.002085</td>\n",
       "      <td>0.003073</td>\n",
       "      <td>0.002664</td>\n",
       "      <td>0.002592</td>\n",
       "      <td>0.003067</td>\n",
       "    </tr>\n",
       "    <tr>\n",
       "      <th>Information Technology</th>\n",
       "      <td>0.003372</td>\n",
       "      <td>0.002952</td>\n",
       "      <td>0.004377</td>\n",
       "      <td>0.003481</td>\n",
       "      <td>0.002250</td>\n",
       "      <td>0.003470</td>\n",
       "      <td>0.002476</td>\n",
       "      <td>0.003792</td>\n",
       "      <td>0.003305</td>\n",
       "      <td>0.003290</td>\n",
       "      <td>0.003779</td>\n",
       "    </tr>\n",
       "    <tr>\n",
       "      <th>Communication Services</th>\n",
       "      <td>0.002755</td>\n",
       "      <td>0.002505</td>\n",
       "      <td>0.003481</td>\n",
       "      <td>0.003949</td>\n",
       "      <td>0.001869</td>\n",
       "      <td>0.003012</td>\n",
       "      <td>0.001980</td>\n",
       "      <td>0.003122</td>\n",
       "      <td>0.002662</td>\n",
       "      <td>0.002651</td>\n",
       "      <td>0.003200</td>\n",
       "    </tr>\n",
       "    <tr>\n",
       "      <th>Consumer Staples</th>\n",
       "      <td>0.002089</td>\n",
       "      <td>0.001853</td>\n",
       "      <td>0.002250</td>\n",
       "      <td>0.001869</td>\n",
       "      <td>0.002157</td>\n",
       "      <td>0.001892</td>\n",
       "      <td>0.002123</td>\n",
       "      <td>0.002294</td>\n",
       "      <td>0.002056</td>\n",
       "      <td>0.002210</td>\n",
       "      <td>0.002200</td>\n",
       "    </tr>\n",
       "    <tr>\n",
       "      <th>Consumer Discretionary</th>\n",
       "      <td>0.002989</td>\n",
       "      <td>0.002655</td>\n",
       "      <td>0.003470</td>\n",
       "      <td>0.003012</td>\n",
       "      <td>0.001892</td>\n",
       "      <td>0.003802</td>\n",
       "      <td>0.001986</td>\n",
       "      <td>0.003313</td>\n",
       "      <td>0.002908</td>\n",
       "      <td>0.002740</td>\n",
       "      <td>0.003432</td>\n",
       "    </tr>\n",
       "    <tr>\n",
       "      <th>Utilities</th>\n",
       "      <td>0.002382</td>\n",
       "      <td>0.002085</td>\n",
       "      <td>0.002476</td>\n",
       "      <td>0.001980</td>\n",
       "      <td>0.002123</td>\n",
       "      <td>0.001986</td>\n",
       "      <td>0.003590</td>\n",
       "      <td>0.002534</td>\n",
       "      <td>0.002354</td>\n",
       "      <td>0.002947</td>\n",
       "      <td>0.002581</td>\n",
       "    </tr>\n",
       "    <tr>\n",
       "      <th>Financials</th>\n",
       "      <td>0.004609</td>\n",
       "      <td>0.003073</td>\n",
       "      <td>0.003792</td>\n",
       "      <td>0.003122</td>\n",
       "      <td>0.002294</td>\n",
       "      <td>0.003313</td>\n",
       "      <td>0.002534</td>\n",
       "      <td>0.006069</td>\n",
       "      <td>0.004227</td>\n",
       "      <td>0.003518</td>\n",
       "      <td>0.005676</td>\n",
       "    </tr>\n",
       "    <tr>\n",
       "      <th>Materials</th>\n",
       "      <td>0.003853</td>\n",
       "      <td>0.002664</td>\n",
       "      <td>0.003305</td>\n",
       "      <td>0.002662</td>\n",
       "      <td>0.002056</td>\n",
       "      <td>0.002908</td>\n",
       "      <td>0.002354</td>\n",
       "      <td>0.004227</td>\n",
       "      <td>0.004226</td>\n",
       "      <td>0.003039</td>\n",
       "      <td>0.004649</td>\n",
       "    </tr>\n",
       "    <tr>\n",
       "      <th>Real Estate</th>\n",
       "      <td>0.003147</td>\n",
       "      <td>0.002592</td>\n",
       "      <td>0.003290</td>\n",
       "      <td>0.002651</td>\n",
       "      <td>0.002210</td>\n",
       "      <td>0.002740</td>\n",
       "      <td>0.002947</td>\n",
       "      <td>0.003518</td>\n",
       "      <td>0.003039</td>\n",
       "      <td>0.003912</td>\n",
       "      <td>0.003593</td>\n",
       "    </tr>\n",
       "    <tr>\n",
       "      <th>Energy</th>\n",
       "      <td>0.004973</td>\n",
       "      <td>0.003067</td>\n",
       "      <td>0.003779</td>\n",
       "      <td>0.003200</td>\n",
       "      <td>0.002200</td>\n",
       "      <td>0.003432</td>\n",
       "      <td>0.002581</td>\n",
       "      <td>0.005676</td>\n",
       "      <td>0.004649</td>\n",
       "      <td>0.003593</td>\n",
       "      <td>0.009100</td>\n",
       "    </tr>\n",
       "  </tbody>\n",
       "</table>\n",
       "</div>"
      ],
      "text/plain": [
       "                        Industrials  Health Care  Information Technology  \\\n",
       "Industrials                0.004646     0.002741                0.003372   \n",
       "Health Care                0.002741     0.002826                0.002952   \n",
       "Information Technology     0.003372     0.002952                0.004377   \n",
       "Communication Services     0.002755     0.002505                0.003481   \n",
       "Consumer Staples           0.002089     0.001853                0.002250   \n",
       "Consumer Discretionary     0.002989     0.002655                0.003470   \n",
       "Utilities                  0.002382     0.002085                0.002476   \n",
       "Financials                 0.004609     0.003073                0.003792   \n",
       "Materials                  0.003853     0.002664                0.003305   \n",
       "Real Estate                0.003147     0.002592                0.003290   \n",
       "Energy                     0.004973     0.003067                0.003779   \n",
       "\n",
       "                        Communication Services  Consumer Staples  \\\n",
       "Industrials                           0.002755          0.002089   \n",
       "Health Care                           0.002505          0.001853   \n",
       "Information Technology                0.003481          0.002250   \n",
       "Communication Services                0.003949          0.001869   \n",
       "Consumer Staples                      0.001869          0.002157   \n",
       "Consumer Discretionary                0.003012          0.001892   \n",
       "Utilities                             0.001980          0.002123   \n",
       "Financials                            0.003122          0.002294   \n",
       "Materials                             0.002662          0.002056   \n",
       "Real Estate                           0.002651          0.002210   \n",
       "Energy                                0.003200          0.002200   \n",
       "\n",
       "                        Consumer Discretionary  Utilities  Financials  \\\n",
       "Industrials                           0.002989   0.002382    0.004609   \n",
       "Health Care                           0.002655   0.002085    0.003073   \n",
       "Information Technology                0.003470   0.002476    0.003792   \n",
       "Communication Services                0.003012   0.001980    0.003122   \n",
       "Consumer Staples                      0.001892   0.002123    0.002294   \n",
       "Consumer Discretionary                0.003802   0.001986    0.003313   \n",
       "Utilities                             0.001986   0.003590    0.002534   \n",
       "Financials                            0.003313   0.002534    0.006069   \n",
       "Materials                             0.002908   0.002354    0.004227   \n",
       "Real Estate                           0.002740   0.002947    0.003518   \n",
       "Energy                                0.003432   0.002581    0.005676   \n",
       "\n",
       "                        Materials  Real Estate    Energy  \n",
       "Industrials              0.003853     0.003147  0.004973  \n",
       "Health Care              0.002664     0.002592  0.003067  \n",
       "Information Technology   0.003305     0.003290  0.003779  \n",
       "Communication Services   0.002662     0.002651  0.003200  \n",
       "Consumer Staples         0.002056     0.002210  0.002200  \n",
       "Consumer Discretionary   0.002908     0.002740  0.003432  \n",
       "Utilities                0.002354     0.002947  0.002581  \n",
       "Financials               0.004227     0.003518  0.005676  \n",
       "Materials                0.004226     0.003039  0.004649  \n",
       "Real Estate              0.003039     0.003912  0.003593  \n",
       "Energy                   0.004649     0.003593  0.009100  "
      ]
     },
     "execution_count": 154,
     "metadata": {},
     "output_type": "execute_result"
    }
   ],
   "source": [
    "exp_ret_1 = inv(inv(S)+np.dot(np.dot(P.T, inv(omega)), P))\n",
    "pd.DataFrame(exp_ret_1, index=type_sector_list, columns=type_sector_list)"
   ]
  },
  {
   "cell_type": "code",
   "execution_count": 155,
   "metadata": {},
   "outputs": [
    {
     "data": {
      "text/html": [
       "<div>\n",
       "<style scoped>\n",
       "    .dataframe tbody tr th:only-of-type {\n",
       "        vertical-align: middle;\n",
       "    }\n",
       "\n",
       "    .dataframe tbody tr th {\n",
       "        vertical-align: top;\n",
       "    }\n",
       "\n",
       "    .dataframe thead th {\n",
       "        text-align: right;\n",
       "    }\n",
       "</style>\n",
       "<table border=\"1\" class=\"dataframe\">\n",
       "  <thead>\n",
       "    <tr style=\"text-align: right;\">\n",
       "      <th></th>\n",
       "      <th>0</th>\n",
       "    </tr>\n",
       "  </thead>\n",
       "  <tbody>\n",
       "    <tr>\n",
       "      <th>Industrials</th>\n",
       "      <td>-4.288805</td>\n",
       "    </tr>\n",
       "    <tr>\n",
       "      <th>Health Care</th>\n",
       "      <td>-4.079084</td>\n",
       "    </tr>\n",
       "    <tr>\n",
       "      <th>Information Technology</th>\n",
       "      <td>8.470785</td>\n",
       "    </tr>\n",
       "    <tr>\n",
       "      <th>Communication Services</th>\n",
       "      <td>-5.204309</td>\n",
       "    </tr>\n",
       "    <tr>\n",
       "      <th>Consumer Staples</th>\n",
       "      <td>-1.726536</td>\n",
       "    </tr>\n",
       "    <tr>\n",
       "      <th>Consumer Discretionary</th>\n",
       "      <td>11.659443</td>\n",
       "    </tr>\n",
       "    <tr>\n",
       "      <th>Utilities</th>\n",
       "      <td>4.146952</td>\n",
       "    </tr>\n",
       "    <tr>\n",
       "      <th>Financials</th>\n",
       "      <td>0.423060</td>\n",
       "    </tr>\n",
       "    <tr>\n",
       "      <th>Materials</th>\n",
       "      <td>4.942861</td>\n",
       "    </tr>\n",
       "    <tr>\n",
       "      <th>Real Estate</th>\n",
       "      <td>-5.528587</td>\n",
       "    </tr>\n",
       "    <tr>\n",
       "      <th>Energy</th>\n",
       "      <td>-3.260204</td>\n",
       "    </tr>\n",
       "  </tbody>\n",
       "</table>\n",
       "</div>"
      ],
      "text/plain": [
       "                                0\n",
       "Industrials             -4.288805\n",
       "Health Care             -4.079084\n",
       "Information Technology   8.470785\n",
       "Communication Services  -5.204309\n",
       "Consumer Staples        -1.726536\n",
       "Consumer Discretionary  11.659443\n",
       "Utilities                4.146952\n",
       "Financials               0.423060\n",
       "Materials                4.942861\n",
       "Real Estate             -5.528587\n",
       "Energy                  -3.260204"
      ]
     },
     "execution_count": 155,
     "metadata": {},
     "output_type": "execute_result"
    }
   ],
   "source": [
    "exp_ret_2 = np.dot(inv(S), pi) + np.dot(np.dot(P.T, inv(omega)), Q)\n",
    "pd.DataFrame(exp_ret_2, index=type_sector_list)"
   ]
  },
  {
   "cell_type": "code",
   "execution_count": 156,
   "metadata": {},
   "outputs": [
    {
     "data": {
      "text/html": [
       "<div>\n",
       "<style scoped>\n",
       "    .dataframe tbody tr th:only-of-type {\n",
       "        vertical-align: middle;\n",
       "    }\n",
       "\n",
       "    .dataframe tbody tr th {\n",
       "        vertical-align: top;\n",
       "    }\n",
       "\n",
       "    .dataframe thead th {\n",
       "        text-align: right;\n",
       "    }\n",
       "</style>\n",
       "<table border=\"1\" class=\"dataframe\">\n",
       "  <thead>\n",
       "    <tr style=\"text-align: right;\">\n",
       "      <th></th>\n",
       "      <th>Expected Excess Return</th>\n",
       "    </tr>\n",
       "  </thead>\n",
       "  <tbody>\n",
       "    <tr>\n",
       "      <th>Industrials</th>\n",
       "      <td>0.011618</td>\n",
       "    </tr>\n",
       "    <tr>\n",
       "      <th>Health Care</th>\n",
       "      <td>0.015227</td>\n",
       "    </tr>\n",
       "    <tr>\n",
       "      <th>Information Technology</th>\n",
       "      <td>0.026726</td>\n",
       "    </tr>\n",
       "    <tr>\n",
       "      <th>Communication Services</th>\n",
       "      <td>0.016397</td>\n",
       "    </tr>\n",
       "    <tr>\n",
       "      <th>Consumer Staples</th>\n",
       "      <td>0.011694</td>\n",
       "    </tr>\n",
       "    <tr>\n",
       "      <th>Consumer Discretionary</th>\n",
       "      <td>0.028807</td>\n",
       "    </tr>\n",
       "    <tr>\n",
       "      <th>Utilities</th>\n",
       "      <td>0.014318</td>\n",
       "    </tr>\n",
       "    <tr>\n",
       "      <th>Financials</th>\n",
       "      <td>0.014245</td>\n",
       "    </tr>\n",
       "    <tr>\n",
       "      <th>Materials</th>\n",
       "      <td>0.017589</td>\n",
       "    </tr>\n",
       "    <tr>\n",
       "      <th>Real Estate</th>\n",
       "      <td>0.013520</td>\n",
       "    </tr>\n",
       "    <tr>\n",
       "      <th>Energy</th>\n",
       "      <td>0.004299</td>\n",
       "    </tr>\n",
       "  </tbody>\n",
       "</table>\n",
       "</div>"
      ],
      "text/plain": [
       "                        Expected Excess Return\n",
       "Industrials                           0.011618\n",
       "Health Care                           0.015227\n",
       "Information Technology                0.026726\n",
       "Communication Services                0.016397\n",
       "Consumer Staples                      0.011694\n",
       "Consumer Discretionary                0.028807\n",
       "Utilities                             0.014318\n",
       "Financials                            0.014245\n",
       "Materials                             0.017589\n",
       "Real Estate                           0.013520\n",
       "Energy                                0.004299"
      ]
     },
     "execution_count": 156,
     "metadata": {},
     "output_type": "execute_result"
    }
   ],
   "source": [
    "MU_BL = np.dot(exp_ret_1, exp_ret_2)\n",
    "pd.DataFrame(MU_BL, index=type_sector_list, columns=['Expected Excess Return']) # non-make sense"
   ]
  },
  {
   "cell_type": "code",
   "execution_count": 157,
   "metadata": {},
   "outputs": [
    {
     "data": {
      "text/html": [
       "<div>\n",
       "<style scoped>\n",
       "    .dataframe tbody tr th:only-of-type {\n",
       "        vertical-align: middle;\n",
       "    }\n",
       "\n",
       "    .dataframe tbody tr th {\n",
       "        vertical-align: top;\n",
       "    }\n",
       "\n",
       "    .dataframe thead th {\n",
       "        text-align: right;\n",
       "    }\n",
       "</style>\n",
       "<table border=\"1\" class=\"dataframe\">\n",
       "  <thead>\n",
       "    <tr style=\"text-align: right;\">\n",
       "      <th></th>\n",
       "      <th>bl_weigth</th>\n",
       "    </tr>\n",
       "  </thead>\n",
       "  <tbody>\n",
       "    <tr>\n",
       "      <th>Industrials</th>\n",
       "      <td>-0.771982</td>\n",
       "    </tr>\n",
       "    <tr>\n",
       "      <th>Health Care</th>\n",
       "      <td>0.045383</td>\n",
       "    </tr>\n",
       "    <tr>\n",
       "      <th>Information Technology</th>\n",
       "      <td>0.998294</td>\n",
       "    </tr>\n",
       "    <tr>\n",
       "      <th>Communication Services</th>\n",
       "      <td>-0.936772</td>\n",
       "    </tr>\n",
       "    <tr>\n",
       "      <th>Consumer Staples</th>\n",
       "      <td>-0.310775</td>\n",
       "    </tr>\n",
       "    <tr>\n",
       "      <th>Consumer Discretionary</th>\n",
       "      <td>1.319076</td>\n",
       "    </tr>\n",
       "    <tr>\n",
       "      <th>Utilities</th>\n",
       "      <td>0.746449</td>\n",
       "    </tr>\n",
       "    <tr>\n",
       "      <th>Financials</th>\n",
       "      <td>0.076151</td>\n",
       "    </tr>\n",
       "    <tr>\n",
       "      <th>Materials</th>\n",
       "      <td>0.889712</td>\n",
       "    </tr>\n",
       "    <tr>\n",
       "      <th>Real Estate</th>\n",
       "      <td>-0.468701</td>\n",
       "    </tr>\n",
       "    <tr>\n",
       "      <th>Energy</th>\n",
       "      <td>-0.586835</td>\n",
       "    </tr>\n",
       "  </tbody>\n",
       "</table>\n",
       "</div>"
      ],
      "text/plain": [
       "                        bl_weigth\n",
       "Industrials             -0.771982\n",
       "Health Care              0.045383\n",
       "Information Technology   0.998294\n",
       "Communication Services  -0.936772\n",
       "Consumer Staples        -0.310775\n",
       "Consumer Discretionary   1.319076\n",
       "Utilities                0.746449\n",
       "Financials               0.076151\n",
       "Materials                0.889712\n",
       "Real Estate             -0.468701\n",
       "Energy                  -0.586835"
      ]
     },
     "execution_count": 157,
     "metadata": {},
     "output_type": "execute_result"
    }
   ],
   "source": [
    "w_bl = np.dot(inv(S), MU_BL) / np.dot(inv(S), MU_BL).sum()\n",
    "pd.DataFrame(w_bl, index=type_sector_list, columns=['bl_weigth'])"
   ]
  },
  {
   "cell_type": "code",
   "execution_count": 279,
   "metadata": {},
   "outputs": [],
   "source": [
    "Exp_port_ret = np.dot(w_bl.T, MU_BL)\n",
    "Port_var = np.dot(np.dot(w_bl, S), w_bl)\n",
    "Exp_sharp_ratio = Exp_port_ret*12 / (np.sqrt(Port_var) * np.sqrt(12))"
   ]
  },
  {
   "cell_type": "code",
   "execution_count": 292,
   "metadata": {},
   "outputs": [
    {
     "name": "stdout",
     "output_type": "stream",
     "text": [
      "Exp_port_ret_bl : 0.6716274084555347\n",
      "Port_var : 0.12089247157010315\n",
      "Exp_sharp_ratio : 1.931651531238874\n"
     ]
    }
   ],
   "source": [
    "print('Exp_port_ret_bl : {}'.format(Exp_port_ret * 12) )\n",
    "print('Port_var : {}'.format(Port_var * 12))\n",
    "print('Exp_sharp_ratio : {}'.format(Exp_sharp_ratio))"
   ]
  },
  {
   "cell_type": "code",
   "execution_count": 260,
   "metadata": {},
   "outputs": [
    {
     "data": {
      "text/plain": [
       "0.03489865050199911"
      ]
     },
     "execution_count": 260,
     "metadata": {},
     "output_type": "execute_result"
    }
   ],
   "source": [
    "Port_var * np.sqrt(12)"
   ]
  },
  {
   "cell_type": "code",
   "execution_count": 257,
   "metadata": {},
   "outputs": [
    {
     "data": {
      "text/plain": [
       "0.046166575160024544"
      ]
     },
     "execution_count": 257,
     "metadata": {},
     "output_type": "execute_result"
    }
   ],
   "source": [
    "np.sqrt(21) * Port_var"
   ]
  },
  {
   "cell_type": "code",
   "execution_count": 250,
   "metadata": {},
   "outputs": [
    {
     "data": {
      "text/plain": [
       "0.10037117430239585"
      ]
     },
     "execution_count": 250,
     "metadata": {},
     "output_type": "execute_result"
    }
   ],
   "source": [
    "np.sqrt(Port_var)"
   ]
  },
  {
   "cell_type": "code",
   "execution_count": 249,
   "metadata": {},
   "outputs": [
    {
     "data": {
      "text/plain": [
       "80.2972462709748"
      ]
     },
     "execution_count": 249,
     "metadata": {},
     "output_type": "execute_result"
    }
   ],
   "source": [
    "Exp_port_ret*12 / np.sqrt(Port_var)*12"
   ]
  },
  {
   "cell_type": "markdown",
   "metadata": {},
   "source": [
    "### Maximum Sharpe portfolio BL"
   ]
  },
  {
   "cell_type": "code",
   "execution_count": 238,
   "metadata": {},
   "outputs": [],
   "source": [
    "MU_BL_yearly = MU_BL*12"
   ]
  },
  {
   "cell_type": "code",
   "execution_count": 286,
   "metadata": {},
   "outputs": [
    {
     "data": {
      "text/plain": [
       "array([0.13941886, 0.18272287, 0.32071111, 0.19676502, 0.14032928,\n",
       "       0.34568692, 0.17182113, 0.17094243, 0.21106955, 0.16224541,\n",
       "       0.05158588])"
      ]
     },
     "execution_count": 286,
     "metadata": {},
     "output_type": "execute_result"
    }
   ],
   "source": [
    "MU_BL_yearly"
   ]
  },
  {
   "cell_type": "code",
   "execution_count": 289,
   "metadata": {},
   "outputs": [
    {
     "name": "stdout",
     "output_type": "stream",
     "text": [
      "Expected annual return: 32.2%\n",
      "Annual volatility: 22.2%\n",
      "Sharpe Ratio: 1.36\n"
     ]
    },
    {
     "data": {
      "text/plain": [
       "(0.3221315583368226, 0.22216751854193373, 1.3599267810150015)"
      ]
     },
     "execution_count": 289,
     "metadata": {},
     "output_type": "execute_result"
    }
   ],
   "source": [
    "# calculate the ef with mu and S\n",
    "ef = EfficientFrontier(MU_BL_yearly, Sigma)\n",
    "raw_weights = ef.max_sharpe()\n",
    "# get interpretable weight\n",
    "cleaned_weights = ef.clean_weights()\n",
    "# get performance numbers\n",
    "ef.portfolio_performance(verbose=True)"
   ]
  },
  {
   "cell_type": "code",
   "execution_count": 290,
   "metadata": {},
   "outputs": [
    {
     "data": {
      "text/plain": [
       "OrderedDict([('Industrials', 0.0),\n",
       "             ('Health Care', 0.0),\n",
       "             ('Information Technology', 0.1608208201316442),\n",
       "             ('Communication Services', 0.0),\n",
       "             ('Consumer Staples', 0.0),\n",
       "             ('Consumer Discretionary', 0.7268009472981829),\n",
       "             ('Utilities', 0.1123782325701727),\n",
       "             ('Financials', 0.0),\n",
       "             ('Materials', 0.0),\n",
       "             ('Real Estate', 0.0),\n",
       "             ('Energy', 0.0)])"
      ]
     },
     "execution_count": 290,
     "metadata": {},
     "output_type": "execute_result"
    }
   ],
   "source": [
    "raw_weights "
   ]
  },
  {
   "cell_type": "code",
   "execution_count": 242,
   "metadata": {},
   "outputs": [
    {
     "name": "stdout",
     "output_type": "stream",
     "text": [
      "Expected annual return: 15.0%\n",
      "Annual volatility: 15.8%\n",
      "Sharpe Ratio: 0.82\n"
     ]
    },
    {
     "data": {
      "text/plain": [
       "(0.1502620869706098, 0.1584435882443143, 0.822135426330729)"
      ]
     },
     "execution_count": 242,
     "metadata": {},
     "output_type": "execute_result"
    }
   ],
   "source": [
    "# calculate the ef with mu and S\n",
    "ef = EfficientFrontier(MU_BL_yearly, Sigma)\n",
    "raw_weights = ef.min_volatility()\n",
    "# get interpretable weight\n",
    "cleaned_weights = ef.clean_weights()\n",
    "ef.portfolio_performance(verbose=True)"
   ]
  },
  {
   "cell_type": "code",
   "execution_count": 243,
   "metadata": {},
   "outputs": [
    {
     "data": {
      "text/plain": [
       "OrderedDict([('Industrials', 0.0),\n",
       "             ('Health Care', 0.20073),\n",
       "             ('Information Technology', 0.0),\n",
       "             ('Communication Services', 0.02086),\n",
       "             ('Consumer Staples', 0.7706),\n",
       "             ('Consumer Discretionary', 0.0),\n",
       "             ('Utilities', 0.0078),\n",
       "             ('Financials', 0.0),\n",
       "             ('Materials', 0.0),\n",
       "             ('Real Estate', 0.0),\n",
       "             ('Energy', 0.0)])"
      ]
     },
     "execution_count": 243,
     "metadata": {},
     "output_type": "execute_result"
    }
   ],
   "source": [
    "cleaned_weights"
   ]
  },
  {
   "cell_type": "code",
   "execution_count": null,
   "metadata": {},
   "outputs": [],
   "source": []
  }
 ],
 "metadata": {
  "interpreter": {
   "hash": "40d3a090f54c6569ab1632332b64b2c03c39dcf918b08424e98f38b5ae0af88f"
  },
  "kernelspec": {
   "display_name": "Python 3.8.8 64-bit ('base': conda)",
   "language": "python",
   "name": "python3"
  },
  "language_info": {
   "codemirror_mode": {
    "name": "ipython",
    "version": 3
   },
   "file_extension": ".py",
   "mimetype": "text/x-python",
   "name": "python",
   "nbconvert_exporter": "python",
   "pygments_lexer": "ipython3",
   "version": "3.8.8"
  },
  "orig_nbformat": 4
 },
 "nbformat": 4,
 "nbformat_minor": 2
}
